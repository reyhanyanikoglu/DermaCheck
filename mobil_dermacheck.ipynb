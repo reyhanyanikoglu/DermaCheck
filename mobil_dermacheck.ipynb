{
  "nbformat": 4,
  "nbformat_minor": 0,
  "metadata": {
    "colab": {
      "provenance": [],
      "gpuType": "A100"
    },
    "kernelspec": {
      "name": "python3",
      "display_name": "Python 3"
    },
    "language_info": {
      "name": "python"
    },
    "accelerator": "GPU"
  },
  "cells": [
    {
      "cell_type": "code",
      "execution_count": null,
      "metadata": {
        "colab": {
          "base_uri": "https://localhost:8080/",
          "height": 206
        },
        "id": "UC7ec9aERP2-",
        "outputId": "ba2f0330-ade8-4218-8b47-371f3255b6e8"
      },
      "outputs": [
        {
          "output_type": "execute_result",
          "data": {
            "text/plain": [
              "     lesion_id      image_id   dx dx_type   age   sex localization\n",
              "0  HAM_0000118  ISIC_0027419  bkl   histo  80.0  male        scalp\n",
              "1  HAM_0000118  ISIC_0025030  bkl   histo  80.0  male        scalp\n",
              "2  HAM_0002730  ISIC_0026769  bkl   histo  80.0  male        scalp\n",
              "3  HAM_0002730  ISIC_0025661  bkl   histo  80.0  male        scalp\n",
              "4  HAM_0001466  ISIC_0031633  bkl   histo  75.0  male          ear"
            ],
            "text/html": [
              "\n",
              "  <div id=\"df-c017a3e4-c9d7-4f80-a30e-e19f9cbb6b48\" class=\"colab-df-container\">\n",
              "    <div>\n",
              "<style scoped>\n",
              "    .dataframe tbody tr th:only-of-type {\n",
              "        vertical-align: middle;\n",
              "    }\n",
              "\n",
              "    .dataframe tbody tr th {\n",
              "        vertical-align: top;\n",
              "    }\n",
              "\n",
              "    .dataframe thead th {\n",
              "        text-align: right;\n",
              "    }\n",
              "</style>\n",
              "<table border=\"1\" class=\"dataframe\">\n",
              "  <thead>\n",
              "    <tr style=\"text-align: right;\">\n",
              "      <th></th>\n",
              "      <th>lesion_id</th>\n",
              "      <th>image_id</th>\n",
              "      <th>dx</th>\n",
              "      <th>dx_type</th>\n",
              "      <th>age</th>\n",
              "      <th>sex</th>\n",
              "      <th>localization</th>\n",
              "    </tr>\n",
              "  </thead>\n",
              "  <tbody>\n",
              "    <tr>\n",
              "      <th>0</th>\n",
              "      <td>HAM_0000118</td>\n",
              "      <td>ISIC_0027419</td>\n",
              "      <td>bkl</td>\n",
              "      <td>histo</td>\n",
              "      <td>80.0</td>\n",
              "      <td>male</td>\n",
              "      <td>scalp</td>\n",
              "    </tr>\n",
              "    <tr>\n",
              "      <th>1</th>\n",
              "      <td>HAM_0000118</td>\n",
              "      <td>ISIC_0025030</td>\n",
              "      <td>bkl</td>\n",
              "      <td>histo</td>\n",
              "      <td>80.0</td>\n",
              "      <td>male</td>\n",
              "      <td>scalp</td>\n",
              "    </tr>\n",
              "    <tr>\n",
              "      <th>2</th>\n",
              "      <td>HAM_0002730</td>\n",
              "      <td>ISIC_0026769</td>\n",
              "      <td>bkl</td>\n",
              "      <td>histo</td>\n",
              "      <td>80.0</td>\n",
              "      <td>male</td>\n",
              "      <td>scalp</td>\n",
              "    </tr>\n",
              "    <tr>\n",
              "      <th>3</th>\n",
              "      <td>HAM_0002730</td>\n",
              "      <td>ISIC_0025661</td>\n",
              "      <td>bkl</td>\n",
              "      <td>histo</td>\n",
              "      <td>80.0</td>\n",
              "      <td>male</td>\n",
              "      <td>scalp</td>\n",
              "    </tr>\n",
              "    <tr>\n",
              "      <th>4</th>\n",
              "      <td>HAM_0001466</td>\n",
              "      <td>ISIC_0031633</td>\n",
              "      <td>bkl</td>\n",
              "      <td>histo</td>\n",
              "      <td>75.0</td>\n",
              "      <td>male</td>\n",
              "      <td>ear</td>\n",
              "    </tr>\n",
              "  </tbody>\n",
              "</table>\n",
              "</div>\n",
              "    <div class=\"colab-df-buttons\">\n",
              "\n",
              "  <div class=\"colab-df-container\">\n",
              "    <button class=\"colab-df-convert\" onclick=\"convertToInteractive('df-c017a3e4-c9d7-4f80-a30e-e19f9cbb6b48')\"\n",
              "            title=\"Convert this dataframe to an interactive table.\"\n",
              "            style=\"display:none;\">\n",
              "\n",
              "  <svg xmlns=\"http://www.w3.org/2000/svg\" height=\"24px\" viewBox=\"0 -960 960 960\">\n",
              "    <path d=\"M120-120v-720h720v720H120Zm60-500h600v-160H180v160Zm220 220h160v-160H400v160Zm0 220h160v-160H400v160ZM180-400h160v-160H180v160Zm440 0h160v-160H620v160ZM180-180h160v-160H180v160Zm440 0h160v-160H620v160Z\"/>\n",
              "  </svg>\n",
              "    </button>\n",
              "\n",
              "  <style>\n",
              "    .colab-df-container {\n",
              "      display:flex;\n",
              "      gap: 12px;\n",
              "    }\n",
              "\n",
              "    .colab-df-convert {\n",
              "      background-color: #E8F0FE;\n",
              "      border: none;\n",
              "      border-radius: 50%;\n",
              "      cursor: pointer;\n",
              "      display: none;\n",
              "      fill: #1967D2;\n",
              "      height: 32px;\n",
              "      padding: 0 0 0 0;\n",
              "      width: 32px;\n",
              "    }\n",
              "\n",
              "    .colab-df-convert:hover {\n",
              "      background-color: #E2EBFA;\n",
              "      box-shadow: 0px 1px 2px rgba(60, 64, 67, 0.3), 0px 1px 3px 1px rgba(60, 64, 67, 0.15);\n",
              "      fill: #174EA6;\n",
              "    }\n",
              "\n",
              "    .colab-df-buttons div {\n",
              "      margin-bottom: 4px;\n",
              "    }\n",
              "\n",
              "    [theme=dark] .colab-df-convert {\n",
              "      background-color: #3B4455;\n",
              "      fill: #D2E3FC;\n",
              "    }\n",
              "\n",
              "    [theme=dark] .colab-df-convert:hover {\n",
              "      background-color: #434B5C;\n",
              "      box-shadow: 0px 1px 3px 1px rgba(0, 0, 0, 0.15);\n",
              "      filter: drop-shadow(0px 1px 2px rgba(0, 0, 0, 0.3));\n",
              "      fill: #FFFFFF;\n",
              "    }\n",
              "  </style>\n",
              "\n",
              "    <script>\n",
              "      const buttonEl =\n",
              "        document.querySelector('#df-c017a3e4-c9d7-4f80-a30e-e19f9cbb6b48 button.colab-df-convert');\n",
              "      buttonEl.style.display =\n",
              "        google.colab.kernel.accessAllowed ? 'block' : 'none';\n",
              "\n",
              "      async function convertToInteractive(key) {\n",
              "        const element = document.querySelector('#df-c017a3e4-c9d7-4f80-a30e-e19f9cbb6b48');\n",
              "        const dataTable =\n",
              "          await google.colab.kernel.invokeFunction('convertToInteractive',\n",
              "                                                    [key], {});\n",
              "        if (!dataTable) return;\n",
              "\n",
              "        const docLinkHtml = 'Like what you see? Visit the ' +\n",
              "          '<a target=\"_blank\" href=https://colab.research.google.com/notebooks/data_table.ipynb>data table notebook</a>'\n",
              "          + ' to learn more about interactive tables.';\n",
              "        element.innerHTML = '';\n",
              "        dataTable['output_type'] = 'display_data';\n",
              "        await google.colab.output.renderOutput(dataTable, element);\n",
              "        const docLink = document.createElement('div');\n",
              "        docLink.innerHTML = docLinkHtml;\n",
              "        element.appendChild(docLink);\n",
              "      }\n",
              "    </script>\n",
              "  </div>\n",
              "\n",
              "\n",
              "<div id=\"df-9d688595-5aa8-4482-8561-0db1995a9fab\">\n",
              "  <button class=\"colab-df-quickchart\" onclick=\"quickchart('df-9d688595-5aa8-4482-8561-0db1995a9fab')\"\n",
              "            title=\"Suggest charts\"\n",
              "            style=\"display:none;\">\n",
              "\n",
              "<svg xmlns=\"http://www.w3.org/2000/svg\" height=\"24px\"viewBox=\"0 0 24 24\"\n",
              "     width=\"24px\">\n",
              "    <g>\n",
              "        <path d=\"M19 3H5c-1.1 0-2 .9-2 2v14c0 1.1.9 2 2 2h14c1.1 0 2-.9 2-2V5c0-1.1-.9-2-2-2zM9 17H7v-7h2v7zm4 0h-2V7h2v10zm4 0h-2v-4h2v4z\"/>\n",
              "    </g>\n",
              "</svg>\n",
              "  </button>\n",
              "\n",
              "<style>\n",
              "  .colab-df-quickchart {\n",
              "      --bg-color: #E8F0FE;\n",
              "      --fill-color: #1967D2;\n",
              "      --hover-bg-color: #E2EBFA;\n",
              "      --hover-fill-color: #174EA6;\n",
              "      --disabled-fill-color: #AAA;\n",
              "      --disabled-bg-color: #DDD;\n",
              "  }\n",
              "\n",
              "  [theme=dark] .colab-df-quickchart {\n",
              "      --bg-color: #3B4455;\n",
              "      --fill-color: #D2E3FC;\n",
              "      --hover-bg-color: #434B5C;\n",
              "      --hover-fill-color: #FFFFFF;\n",
              "      --disabled-bg-color: #3B4455;\n",
              "      --disabled-fill-color: #666;\n",
              "  }\n",
              "\n",
              "  .colab-df-quickchart {\n",
              "    background-color: var(--bg-color);\n",
              "    border: none;\n",
              "    border-radius: 50%;\n",
              "    cursor: pointer;\n",
              "    display: none;\n",
              "    fill: var(--fill-color);\n",
              "    height: 32px;\n",
              "    padding: 0;\n",
              "    width: 32px;\n",
              "  }\n",
              "\n",
              "  .colab-df-quickchart:hover {\n",
              "    background-color: var(--hover-bg-color);\n",
              "    box-shadow: 0 1px 2px rgba(60, 64, 67, 0.3), 0 1px 3px 1px rgba(60, 64, 67, 0.15);\n",
              "    fill: var(--button-hover-fill-color);\n",
              "  }\n",
              "\n",
              "  .colab-df-quickchart-complete:disabled,\n",
              "  .colab-df-quickchart-complete:disabled:hover {\n",
              "    background-color: var(--disabled-bg-color);\n",
              "    fill: var(--disabled-fill-color);\n",
              "    box-shadow: none;\n",
              "  }\n",
              "\n",
              "  .colab-df-spinner {\n",
              "    border: 2px solid var(--fill-color);\n",
              "    border-color: transparent;\n",
              "    border-bottom-color: var(--fill-color);\n",
              "    animation:\n",
              "      spin 1s steps(1) infinite;\n",
              "  }\n",
              "\n",
              "  @keyframes spin {\n",
              "    0% {\n",
              "      border-color: transparent;\n",
              "      border-bottom-color: var(--fill-color);\n",
              "      border-left-color: var(--fill-color);\n",
              "    }\n",
              "    20% {\n",
              "      border-color: transparent;\n",
              "      border-left-color: var(--fill-color);\n",
              "      border-top-color: var(--fill-color);\n",
              "    }\n",
              "    30% {\n",
              "      border-color: transparent;\n",
              "      border-left-color: var(--fill-color);\n",
              "      border-top-color: var(--fill-color);\n",
              "      border-right-color: var(--fill-color);\n",
              "    }\n",
              "    40% {\n",
              "      border-color: transparent;\n",
              "      border-right-color: var(--fill-color);\n",
              "      border-top-color: var(--fill-color);\n",
              "    }\n",
              "    60% {\n",
              "      border-color: transparent;\n",
              "      border-right-color: var(--fill-color);\n",
              "    }\n",
              "    80% {\n",
              "      border-color: transparent;\n",
              "      border-right-color: var(--fill-color);\n",
              "      border-bottom-color: var(--fill-color);\n",
              "    }\n",
              "    90% {\n",
              "      border-color: transparent;\n",
              "      border-bottom-color: var(--fill-color);\n",
              "    }\n",
              "  }\n",
              "</style>\n",
              "\n",
              "  <script>\n",
              "    async function quickchart(key) {\n",
              "      const quickchartButtonEl =\n",
              "        document.querySelector('#' + key + ' button');\n",
              "      quickchartButtonEl.disabled = true;  // To prevent multiple clicks.\n",
              "      quickchartButtonEl.classList.add('colab-df-spinner');\n",
              "      try {\n",
              "        const charts = await google.colab.kernel.invokeFunction(\n",
              "            'suggestCharts', [key], {});\n",
              "      } catch (error) {\n",
              "        console.error('Error during call to suggestCharts:', error);\n",
              "      }\n",
              "      quickchartButtonEl.classList.remove('colab-df-spinner');\n",
              "      quickchartButtonEl.classList.add('colab-df-quickchart-complete');\n",
              "    }\n",
              "    (() => {\n",
              "      let quickchartButtonEl =\n",
              "        document.querySelector('#df-9d688595-5aa8-4482-8561-0db1995a9fab button');\n",
              "      quickchartButtonEl.style.display =\n",
              "        google.colab.kernel.accessAllowed ? 'block' : 'none';\n",
              "    })();\n",
              "  </script>\n",
              "</div>\n",
              "\n",
              "    </div>\n",
              "  </div>\n"
            ],
            "application/vnd.google.colaboratory.intrinsic+json": {
              "type": "dataframe",
              "variable_name": "meta_df",
              "summary": "{\n  \"name\": \"meta_df\",\n  \"rows\": 10015,\n  \"fields\": [\n    {\n      \"column\": \"lesion_id\",\n      \"properties\": {\n        \"dtype\": \"string\",\n        \"num_unique_values\": 7470,\n        \"samples\": [\n          \"HAM_0002743\",\n          \"HAM_0004142\",\n          \"HAM_0003658\"\n        ],\n        \"semantic_type\": \"\",\n        \"description\": \"\"\n      }\n    },\n    {\n      \"column\": \"image_id\",\n      \"properties\": {\n        \"dtype\": \"string\",\n        \"num_unique_values\": 10015,\n        \"samples\": [\n          \"ISIC_0033272\",\n          \"ISIC_0031923\",\n          \"ISIC_0026652\"\n        ],\n        \"semantic_type\": \"\",\n        \"description\": \"\"\n      }\n    },\n    {\n      \"column\": \"dx\",\n      \"properties\": {\n        \"dtype\": \"category\",\n        \"num_unique_values\": 7,\n        \"samples\": [\n          \"bkl\",\n          \"nv\",\n          \"bcc\"\n        ],\n        \"semantic_type\": \"\",\n        \"description\": \"\"\n      }\n    },\n    {\n      \"column\": \"dx_type\",\n      \"properties\": {\n        \"dtype\": \"category\",\n        \"num_unique_values\": 4,\n        \"samples\": [\n          \"consensus\",\n          \"follow_up\",\n          \"histo\"\n        ],\n        \"semantic_type\": \"\",\n        \"description\": \"\"\n      }\n    },\n    {\n      \"column\": \"age\",\n      \"properties\": {\n        \"dtype\": \"number\",\n        \"std\": 16.96861369249538,\n        \"min\": 0.0,\n        \"max\": 85.0,\n        \"num_unique_values\": 18,\n        \"samples\": [\n          80.0,\n          75.0,\n          50.0\n        ],\n        \"semantic_type\": \"\",\n        \"description\": \"\"\n      }\n    },\n    {\n      \"column\": \"sex\",\n      \"properties\": {\n        \"dtype\": \"category\",\n        \"num_unique_values\": 3,\n        \"samples\": [\n          \"male\",\n          \"female\",\n          \"unknown\"\n        ],\n        \"semantic_type\": \"\",\n        \"description\": \"\"\n      }\n    },\n    {\n      \"column\": \"localization\",\n      \"properties\": {\n        \"dtype\": \"category\",\n        \"num_unique_values\": 15,\n        \"samples\": [\n          \"lower extremity\",\n          \"neck\",\n          \"scalp\"\n        ],\n        \"semantic_type\": \"\",\n        \"description\": \"\"\n      }\n    }\n  ]\n}"
            }
          },
          "metadata": {},
          "execution_count": 1
        }
      ],
      "source": [
        "# verilerin görselleştirilmesi ve kaydedilmesi için bilgi toplama\n",
        "from matplotlib import pyplot as plt\n",
        "import numpy as np  # sayısal hesaplamalar için\n",
        "import pandas as pd  # tablodaki verileri yönetmek için (tablo formatındaki verilerle çalışmak için)\n",
        "\n",
        "# csv dosyasındaki verilerin kaydedilmesi\n",
        "data = pd.read_csv(\"/content/drive/MyDrive/archive/hmnist_28_28_RGB.csv\")\n",
        "\n",
        "# 5 veriyi getirir\n",
        "data.head()\n",
        "\n",
        "# görüntü veri kümeleriyle ilgili meta verileri okuma (etiketler ve hasta bilgileri)\n",
        "meta_df = pd.read_csv(\"/content/drive/MyDrive/archive/HAM10000_metadata.csv\")\n",
        "\n",
        "# meta verinin ilk 5 satırı görüntüleme\n",
        "meta_df.head()"
      ]
    },
    {
      "cell_type": "code",
      "source": [
        "!pip install --upgrade tensorflow jax jaxlib\n",
        "#Bu komut, Python paket yöneticisi pip ile TensorFlow, JAX, ve JAXlib kütüphanelerini güncellemeyi amaçlar.\n",
        "#Tensorflow büyük veri kümeleri üzerinde çalışırken etkili ve gpu desteği sağlar"
      ],
      "metadata": {
        "colab": {
          "base_uri": "https://localhost:8080/"
        },
        "id": "WNvQE37xRYG9",
        "outputId": "9bbc27bb-b296-4755-b3ab-eeb3ab284d7a"
      },
      "execution_count": null,
      "outputs": [
        {
          "output_type": "stream",
          "name": "stdout",
          "text": [
            "Requirement already satisfied: tensorflow in /usr/local/lib/python3.10/dist-packages (2.17.1)\n",
            "Collecting tensorflow\n",
            "  Downloading tensorflow-2.18.0-cp310-cp310-manylinux_2_17_x86_64.manylinux2014_x86_64.whl.metadata (4.1 kB)\n",
            "Requirement already satisfied: jax in /usr/local/lib/python3.10/dist-packages (0.4.33)\n",
            "Collecting jax\n",
            "  Downloading jax-0.4.38-py3-none-any.whl.metadata (22 kB)\n",
            "Requirement already satisfied: jaxlib in /usr/local/lib/python3.10/dist-packages (0.4.33)\n",
            "Collecting jaxlib\n",
            "  Downloading jaxlib-0.4.38-cp310-cp310-manylinux2014_x86_64.whl.metadata (1.0 kB)\n",
            "Requirement already satisfied: absl-py>=1.0.0 in /usr/local/lib/python3.10/dist-packages (from tensorflow) (1.4.0)\n",
            "Requirement already satisfied: astunparse>=1.6.0 in /usr/local/lib/python3.10/dist-packages (from tensorflow) (1.6.3)\n",
            "Requirement already satisfied: flatbuffers>=24.3.25 in /usr/local/lib/python3.10/dist-packages (from tensorflow) (24.3.25)\n",
            "Requirement already satisfied: gast!=0.5.0,!=0.5.1,!=0.5.2,>=0.2.1 in /usr/local/lib/python3.10/dist-packages (from tensorflow) (0.6.0)\n",
            "Requirement already satisfied: google-pasta>=0.1.1 in /usr/local/lib/python3.10/dist-packages (from tensorflow) (0.2.0)\n",
            "Requirement already satisfied: libclang>=13.0.0 in /usr/local/lib/python3.10/dist-packages (from tensorflow) (18.1.1)\n",
            "Requirement already satisfied: opt-einsum>=2.3.2 in /usr/local/lib/python3.10/dist-packages (from tensorflow) (3.4.0)\n",
            "Requirement already satisfied: packaging in /usr/local/lib/python3.10/dist-packages (from tensorflow) (24.2)\n",
            "Requirement already satisfied: protobuf!=4.21.0,!=4.21.1,!=4.21.2,!=4.21.3,!=4.21.4,!=4.21.5,<6.0.0dev,>=3.20.3 in /usr/local/lib/python3.10/dist-packages (from tensorflow) (4.25.5)\n",
            "Requirement already satisfied: requests<3,>=2.21.0 in /usr/local/lib/python3.10/dist-packages (from tensorflow) (2.32.3)\n",
            "Requirement already satisfied: setuptools in /usr/local/lib/python3.10/dist-packages (from tensorflow) (75.1.0)\n",
            "Requirement already satisfied: six>=1.12.0 in /usr/local/lib/python3.10/dist-packages (from tensorflow) (1.17.0)\n",
            "Requirement already satisfied: termcolor>=1.1.0 in /usr/local/lib/python3.10/dist-packages (from tensorflow) (2.5.0)\n",
            "Requirement already satisfied: typing-extensions>=3.6.6 in /usr/local/lib/python3.10/dist-packages (from tensorflow) (4.12.2)\n",
            "Requirement already satisfied: wrapt>=1.11.0 in /usr/local/lib/python3.10/dist-packages (from tensorflow) (1.17.0)\n",
            "Requirement already satisfied: grpcio<2.0,>=1.24.3 in /usr/local/lib/python3.10/dist-packages (from tensorflow) (1.68.1)\n",
            "Collecting tensorboard<2.19,>=2.18 (from tensorflow)\n",
            "  Downloading tensorboard-2.18.0-py3-none-any.whl.metadata (1.6 kB)\n",
            "Requirement already satisfied: keras>=3.5.0 in /usr/local/lib/python3.10/dist-packages (from tensorflow) (3.5.0)\n",
            "Requirement already satisfied: numpy<2.1.0,>=1.26.0 in /usr/local/lib/python3.10/dist-packages (from tensorflow) (1.26.4)\n",
            "Requirement already satisfied: h5py>=3.11.0 in /usr/local/lib/python3.10/dist-packages (from tensorflow) (3.12.1)\n",
            "Requirement already satisfied: ml-dtypes<0.5.0,>=0.4.0 in /usr/local/lib/python3.10/dist-packages (from tensorflow) (0.4.1)\n",
            "Requirement already satisfied: tensorflow-io-gcs-filesystem>=0.23.1 in /usr/local/lib/python3.10/dist-packages (from tensorflow) (0.37.1)\n",
            "Requirement already satisfied: scipy>=1.10 in /usr/local/lib/python3.10/dist-packages (from jax) (1.13.1)\n",
            "Requirement already satisfied: wheel<1.0,>=0.23.0 in /usr/local/lib/python3.10/dist-packages (from astunparse>=1.6.0->tensorflow) (0.45.1)\n",
            "Requirement already satisfied: rich in /usr/local/lib/python3.10/dist-packages (from keras>=3.5.0->tensorflow) (13.9.4)\n",
            "Requirement already satisfied: namex in /usr/local/lib/python3.10/dist-packages (from keras>=3.5.0->tensorflow) (0.0.8)\n",
            "Requirement already satisfied: optree in /usr/local/lib/python3.10/dist-packages (from keras>=3.5.0->tensorflow) (0.13.1)\n",
            "Requirement already satisfied: charset-normalizer<4,>=2 in /usr/local/lib/python3.10/dist-packages (from requests<3,>=2.21.0->tensorflow) (3.4.0)\n",
            "Requirement already satisfied: idna<4,>=2.5 in /usr/local/lib/python3.10/dist-packages (from requests<3,>=2.21.0->tensorflow) (3.10)\n",
            "Requirement already satisfied: urllib3<3,>=1.21.1 in /usr/local/lib/python3.10/dist-packages (from requests<3,>=2.21.0->tensorflow) (2.2.3)\n",
            "Requirement already satisfied: certifi>=2017.4.17 in /usr/local/lib/python3.10/dist-packages (from requests<3,>=2.21.0->tensorflow) (2024.12.14)\n",
            "Requirement already satisfied: markdown>=2.6.8 in /usr/local/lib/python3.10/dist-packages (from tensorboard<2.19,>=2.18->tensorflow) (3.7)\n",
            "Requirement already satisfied: tensorboard-data-server<0.8.0,>=0.7.0 in /usr/local/lib/python3.10/dist-packages (from tensorboard<2.19,>=2.18->tensorflow) (0.7.2)\n",
            "Requirement already satisfied: werkzeug>=1.0.1 in /usr/local/lib/python3.10/dist-packages (from tensorboard<2.19,>=2.18->tensorflow) (3.1.3)\n",
            "Requirement already satisfied: MarkupSafe>=2.1.1 in /usr/local/lib/python3.10/dist-packages (from werkzeug>=1.0.1->tensorboard<2.19,>=2.18->tensorflow) (3.0.2)\n",
            "Requirement already satisfied: markdown-it-py>=2.2.0 in /usr/local/lib/python3.10/dist-packages (from rich->keras>=3.5.0->tensorflow) (3.0.0)\n",
            "Requirement already satisfied: pygments<3.0.0,>=2.13.0 in /usr/local/lib/python3.10/dist-packages (from rich->keras>=3.5.0->tensorflow) (2.18.0)\n",
            "Requirement already satisfied: mdurl~=0.1 in /usr/local/lib/python3.10/dist-packages (from markdown-it-py>=2.2.0->rich->keras>=3.5.0->tensorflow) (0.1.2)\n",
            "Downloading tensorflow-2.18.0-cp310-cp310-manylinux_2_17_x86_64.manylinux2014_x86_64.whl (615.3 MB)\n",
            "\u001b[2K   \u001b[90m━━━━━━━━━━━━━━━━━━━━━━━━━━━━━━━━━━━━━━━━\u001b[0m \u001b[32m615.3/615.3 MB\u001b[0m \u001b[31m1.4 MB/s\u001b[0m eta \u001b[36m0:00:00\u001b[0m\n",
            "\u001b[?25hDownloading jax-0.4.38-py3-none-any.whl (2.2 MB)\n",
            "\u001b[2K   \u001b[90m━━━━━━━━━━━━━━━━━━━━━━━━━━━━━━━━━━━━━━━━\u001b[0m \u001b[32m2.2/2.2 MB\u001b[0m \u001b[31m43.1 MB/s\u001b[0m eta \u001b[36m0:00:00\u001b[0m\n",
            "\u001b[?25hDownloading jaxlib-0.4.38-cp310-cp310-manylinux2014_x86_64.whl (101.7 MB)\n",
            "\u001b[2K   \u001b[90m━━━━━━━━━━━━━━━━━━━━━━━━━━━━━━━━━━━━━━━━\u001b[0m \u001b[32m101.7/101.7 MB\u001b[0m \u001b[31m17.0 MB/s\u001b[0m eta \u001b[36m0:00:00\u001b[0m\n",
            "\u001b[?25hDownloading tensorboard-2.18.0-py3-none-any.whl (5.5 MB)\n",
            "\u001b[2K   \u001b[90m━━━━━━━━━━━━━━━━━━━━━━━━━━━━━━━━━━━━━━━━\u001b[0m \u001b[32m5.5/5.5 MB\u001b[0m \u001b[31m112.8 MB/s\u001b[0m eta \u001b[36m0:00:00\u001b[0m\n",
            "\u001b[?25hInstalling collected packages: tensorboard, jaxlib, jax, tensorflow\n",
            "  Attempting uninstall: tensorboard\n",
            "    Found existing installation: tensorboard 2.17.1\n",
            "    Uninstalling tensorboard-2.17.1:\n",
            "      Successfully uninstalled tensorboard-2.17.1\n",
            "  Attempting uninstall: jaxlib\n",
            "    Found existing installation: jaxlib 0.4.33\n",
            "    Uninstalling jaxlib-0.4.33:\n",
            "      Successfully uninstalled jaxlib-0.4.33\n",
            "  Attempting uninstall: jax\n",
            "    Found existing installation: jax 0.4.33\n",
            "    Uninstalling jax-0.4.33:\n",
            "      Successfully uninstalled jax-0.4.33\n",
            "  Attempting uninstall: tensorflow\n",
            "    Found existing installation: tensorflow 2.17.1\n",
            "    Uninstalling tensorflow-2.17.1:\n",
            "      Successfully uninstalled tensorflow-2.17.1\n",
            "\u001b[31mERROR: pip's dependency resolver does not currently take into account all the packages that are installed. This behaviour is the source of the following dependency conflicts.\n",
            "tf-keras 2.17.0 requires tensorflow<2.18,>=2.17, but you have tensorflow 2.18.0 which is incompatible.\u001b[0m\u001b[31m\n",
            "\u001b[0mSuccessfully installed jax-0.4.38 jaxlib-0.4.38 tensorboard-2.18.0 tensorflow-2.18.0\n"
          ]
        }
      ]
    },
    {
      "cell_type": "code",
      "source": [
        "meta_df.shape\n",
        "\n",
        "data.shape"
      ],
      "metadata": {
        "colab": {
          "base_uri": "https://localhost:8080/"
        },
        "id": "LISy1Sh3SUOv",
        "outputId": "ccc46580-2556-4864-c5a2-6894b76de7d6"
      },
      "execution_count": null,
      "outputs": [
        {
          "output_type": "execute_result",
          "data": {
            "text/plain": [
              "(10015, 2353)"
            ]
          },
          "metadata": {},
          "execution_count": 3
        }
      ]
    },
    {
      "cell_type": "code",
      "source": [
        "# Veri ve etiketleri ayırma\n",
        "yData = data['label'] #etiket sütununu seçer\n",
        "XData = data.drop(columns=['label'])\n",
        "\n",
        "# Hedef sınıflar\n",
        "target_classes = [4, 6, 2]  # nv, mel, bkl sınıflarının etiketleri\n",
        "\n",
        "# Sadece hedef sınıfları seçiyoruz\n",
        "filtered_indices = yData.isin(target_classes)\n",
        "\n",
        "# Filtrelenmiş veriler\n",
        "XData = XData[filtered_indices]\n",
        "yData = yData[filtered_indices]\n",
        "\n",
        "# Etiketleri yeniden kodlama (4 -> 0, 6 -> 1, 2 -> 2)\n",
        "class_mapping = {4: 0, 6: 1, 2: 2}\n",
        "yData = yData.map(class_mapping)"
      ],
      "metadata": {
        "id": "SmMzh4xcSYHU"
      },
      "execution_count": null,
      "outputs": []
    },
    {
      "cell_type": "markdown",
      "source": [
        " Model, XData'yı giriş olarak alır ve bu girişlerden yData'yı tahmin etmeye çalışır.\n",
        "\n",
        " XData => Modelin öğrenmesi için kullandığı özellikler veya girdi verileri.\n",
        "\n",
        " yData => Modelin tahmin etmeye çalıştığı etiketler\n",
        "\n",
        "XData:\n",
        "\n",
        "Modelin öğrenme yaparken kullandığı girdi verileri.\n",
        "Şekil olarak genelde bir matristir: (örnek sayısı, özellik sayısı).\n",
        "\n",
        "yData:\n",
        "\n",
        "Modelin tahmin etmeye çalıştığı çıktı verileri (etiketler).\n",
        "Şekil olarak genelde bir vektördür: (örnek sayısı,)."
      ],
      "metadata": {
        "id": "y4AryWsyuccH"
      }
    },
    {
      "cell_type": "code",
      "source": [
        "# Grafik: Yeni sınıf dağılımını görselleştirme\n",
        "dist = yData.value_counts()\n",
        "dist.plot(kind='bar')\n",
        "\n",
        "plt.title('Distribution of Skin Lesion Classes (Filtered)')\n",
        "plt.xlabel('Classes')\n",
        "plt.ylabel('Count')\n",
        "plt.show()"
      ],
      "metadata": {
        "colab": {
          "base_uri": "https://localhost:8080/",
          "height": 467
        },
        "id": "3ZP8E9EzKAbU",
        "outputId": "9ff53515-ee26-4bfd-9752-53dbb0d3913a"
      },
      "execution_count": null,
      "outputs": [
        {
          "output_type": "display_data",
          "data": {
            "text/plain": [
              "<Figure size 640x480 with 1 Axes>"
            ],
            "image/png": "[encoded data removed]"
          },
          "metadata": {}
        }
      ]
    },
    {
      "cell_type": "code",
      "source": [
        "dist = yData.value_counts()\n",
        "dist"
      ],
      "metadata": {
        "colab": {
          "base_uri": "https://localhost:8080/",
          "height": 210
        },
        "id": "AmtR5WDsKB4y",
        "outputId": "21c8d35e-49e6-4995-d3e6-aa0bbca1cc8f"
      },
      "execution_count": null,
      "outputs": [
        {
          "output_type": "execute_result",
          "data": {
            "text/plain": [
              "label\n",
              "0    6705\n",
              "1    1113\n",
              "2    1099\n",
              "Name: count, dtype: int64"
            ],
            "text/html": [
              "<div>\n",
              "<style scoped>\n",
              "    .dataframe tbody tr th:only-of-type {\n",
              "        vertical-align: middle;\n",
              "    }\n",
              "\n",
              "    .dataframe tbody tr th {\n",
              "        vertical-align: top;\n",
              "    }\n",
              "\n",
              "    .dataframe thead th {\n",
              "        text-align: right;\n",
              "    }\n",
              "</style>\n",
              "<table border=\"1\" class=\"dataframe\">\n",
              "  <thead>\n",
              "    <tr style=\"text-align: right;\">\n",
              "      <th></th>\n",
              "      <th>count</th>\n",
              "    </tr>\n",
              "    <tr>\n",
              "      <th>label</th>\n",
              "      <th></th>\n",
              "    </tr>\n",
              "  </thead>\n",
              "  <tbody>\n",
              "    <tr>\n",
              "      <th>0</th>\n",
              "      <td>6705</td>\n",
              "    </tr>\n",
              "    <tr>\n",
              "      <th>1</th>\n",
              "      <td>1113</td>\n",
              "    </tr>\n",
              "    <tr>\n",
              "      <th>2</th>\n",
              "      <td>1099</td>\n",
              "    </tr>\n",
              "  </tbody>\n",
              "</table>\n",
              "</div><br><label><b>dtype:</b> int64</label>"
            ]
          },
          "metadata": {},
          "execution_count": 6
        }
      ]
    },
    {
      "cell_type": "code",
      "source": [
        "# veri dengesizliğini düzeltme\n",
        "from imblearn.over_sampling import RandomOverSampler # daha az örneğe sahip olan sınıfın örnek sayısını artırır\n",
        "sampler = RandomOverSampler() #RandomOverSampler sınıfının nesnesi. Bu nesne veri setini dengelemek için kullanılacak\n",
        "XData,yData  = sampler.fit_resample(XData,yData) #fit_resample yöntemi, XData ve yData veri setlerindeki sınıf dengesizliğini giderir. fit_resample ile her sınıftaki örnek sayısı eşit hale getirilir.\n",
        "XData.shape, yData.shape\n",
        "XData = np.array(XData).reshape((-1, 28, 28, 3)) #Bu adımda, XData, her bir örneği 28x28 boyutunda ve RGB renkli olacak şekilde yeniden şekillendiriliyor.\n",
        "#Burada -1 ifadesi, otomatik olarak örnek sayısını belirtir.\n",
        "# Şekil (20115, 28, 28, 3) olur. Bu, 20.115 örneğin her birinin 28x28 piksel boyutunda ve 3 kanallı (RGB) olduğunu belirtir.\n",
        "XData = XData / 255\n",
        "#Bu işlem, her piksel değerini 0 ile 1 arasında olacak şekilde yeniden ölçeklendirir. Her bir piksel değeri 0-255 arasında olduğu için 255'e bölünür.\n",
        "XData.shape"
      ],
      "metadata": {
        "colab": {
          "base_uri": "https://localhost:8080/"
        },
        "id": "mwCw1wrTKDHk",
        "outputId": "e6146518-3d83-4c1f-a9c8-d18d6f82b5b8"
      },
      "execution_count": null,
      "outputs": [
        {
          "output_type": "stream",
          "name": "stderr",
          "text": [
            "/usr/local/lib/python3.10/dist-packages/sklearn/base.py:484: FutureWarning: `BaseEstimator._check_n_features` is deprecated in 1.6 and will be removed in 1.7. Use `sklearn.utils.validation._check_n_features` instead.\n",
            "  warnings.warn(\n",
            "/usr/local/lib/python3.10/dist-packages/sklearn/base.py:493: FutureWarning: `BaseEstimator._check_feature_names` is deprecated in 1.6 and will be removed in 1.7. Use `sklearn.utils.validation._check_feature_names` instead.\n",
            "  warnings.warn(\n"
          ]
        },
        {
          "output_type": "execute_result",
          "data": {
            "text/plain": [
              "(20115, 28, 28, 3)"
            ]
          },
          "metadata": {},
          "execution_count": 7
        }
      ]
    },
    {
      "cell_type": "markdown",
      "source": [
        "fit_resample: Sınıf dengesi sağlanana kadar azınlık sınıflardan rastgele örnekler alır ve bu örnekleri veri setine ekler.\n",
        "\n",
        "reshape: Verileri model için uygun bir formatta düzenler. (görsellerin her biri 28x28 piksel boyutu ve rgb renkli)\n",
        "\n"
      ],
      "metadata": {
        "id": "gMcO_pA1tQKj"
      }
    },
    {
      "cell_type": "markdown",
      "source": [
        "Görsel verilerdeki piksel değerleri genellikle 0 ile 255 arasında olur.\n",
        "\n",
        "0: Siyah\n",
        "\n",
        "255: Beyaz\n",
        "\n",
        "Bu işlem, her piksel değerini 255'e bölerek 0 ile 1 arasında ölçeklendirir.\n",
        "\n",
        "Örneğin:\n",
        "Piksel değeri 0 ise →\n",
        "0\n",
        "/\n",
        "255\n",
        "=\n",
        "0.0\n",
        "0/255=0.0\n",
        "Piksel değeri 128 ise →\n",
        "128\n",
        "/\n",
        "255\n",
        "≈\n",
        "0.502\n",
        "128/255≈0.502\n",
        "Piksel değeri 255 ise →\n",
        "255\n",
        "/\n",
        "255\n",
        "=\n",
        "1.0\n",
        "255/255=1.0\n",
        "\n",
        "Derin öğrenme modelleri (özellikle sinir ağları), giriş verileri küçük ölçeklerde olduğunda daha iyi performans gösterir. görsel verileri derin öğrenme modellerine uygun hale getiren önemli bir ön işleme adımıdır."
      ],
      "metadata": {
        "id": "CDNgNaVVv2QX"
      }
    },
    {
      "cell_type": "code",
      "source": [
        "# veri setini eğitim ve test veri kümelerine ayırmak için train_test_split fonks. kullanır\n",
        "from sklearn.model_selection import train_test_split\n",
        "\n",
        "# XData ve yData'yı eğitim verilerine (Xtrain, Ytrain) ve test verilerine (Xtest, Ytest) ayırın\n",
        "# test_size=0,1, verilerin %10'unun test için ve %90'ının eğitim için kullanılacağı anlamına gelir\n",
        "Xtrain, Xtest, Ytrain, Ytest = train_test_split(XData, yData, test_size=0.1)\n",
        "\n",
        "Xtrain.shape, Xtest.shape # eğitim ve test kümelerinin boyutunu yazdırır."
      ],
      "metadata": {
        "colab": {
          "base_uri": "https://localhost:8080/"
        },
        "id": "MQ_CiwV6KESZ",
        "outputId": "4b56e30f-e70c-4d02-a431-4fcdd3ea69ef"
      },
      "execution_count": null,
      "outputs": [
        {
          "output_type": "execute_result",
          "data": {
            "text/plain": [
              "((18103, 28, 28, 3), (2012, 28, 28, 3))"
            ]
          },
          "metadata": {},
          "execution_count": 8
        }
      ]
    },
    {
      "cell_type": "markdown",
      "source": [
        "yData: sınıf etiketleri\n",
        "\n",
        "\n",
        "Xtrain: Eğitim için kullanılacak girdi verileri.\n",
        "\n",
        "Xtest: Test için kullanılacak girdi verileri.\n",
        "\n",
        "Ytrain: Eğitim için kullanılacak etiketler.\n",
        "\n",
        "Ytest: Test için kullanılacak etiketler."
      ],
      "metadata": {
        "id": "Dvrrg-aawkrK"
      }
    },
    {
      "cell_type": "code",
      "source": [
        "!pip install tensorflow jax jaxlib\n",
        "# TensorFlow: Derin öğrenme modeli oluşturmak eğitmek ve değerlendirmek için framework.\n",
        "# jax: otomatik türev özelliği olan kütüphane\n",
        "# jaxlib: jax kütüphanesi için gpu/tpu hızlandırması sağlayan yardımcı kütüphane"
      ],
      "metadata": {
        "colab": {
          "base_uri": "https://localhost:8080/"
        },
        "id": "FGrvfVyHKFXs",
        "outputId": "d6cc943a-73d1-4eed-9055-c318948e35d7"
      },
      "execution_count": null,
      "outputs": [
        {
          "output_type": "stream",
          "name": "stdout",
          "text": [
            "Requirement already satisfied: tensorflow in /usr/local/lib/python3.10/dist-packages (2.18.0)\n",
            "Requirement already satisfied: jax in /usr/local/lib/python3.10/dist-packages (0.4.38)\n",
            "Requirement already satisfied: jaxlib in /usr/local/lib/python3.10/dist-packages (0.4.38)\n",
            "Requirement already satisfied: absl-py>=1.0.0 in /usr/local/lib/python3.10/dist-packages (from tensorflow) (1.4.0)\n",
            "Requirement already satisfied: astunparse>=1.6.0 in /usr/local/lib/python3.10/dist-packages (from tensorflow) (1.6.3)\n",
            "Requirement already satisfied: flatbuffers>=24.3.25 in /usr/local/lib/python3.10/dist-packages (from tensorflow) (24.3.25)\n",
            "Requirement already satisfied: gast!=0.5.0,!=0.5.1,!=0.5.2,>=0.2.1 in /usr/local/lib/python3.10/dist-packages (from tensorflow) (0.6.0)\n",
            "Requirement already satisfied: google-pasta>=0.1.1 in /usr/local/lib/python3.10/dist-packages (from tensorflow) (0.2.0)\n",
            "Requirement already satisfied: libclang>=13.0.0 in /usr/local/lib/python3.10/dist-packages (from tensorflow) (18.1.1)\n",
            "Requirement already satisfied: opt-einsum>=2.3.2 in /usr/local/lib/python3.10/dist-packages (from tensorflow) (3.4.0)\n",
            "Requirement already satisfied: packaging in /usr/local/lib/python3.10/dist-packages (from tensorflow) (24.2)\n",
            "Requirement already satisfied: protobuf!=4.21.0,!=4.21.1,!=4.21.2,!=4.21.3,!=4.21.4,!=4.21.5,<6.0.0dev,>=3.20.3 in /usr/local/lib/python3.10/dist-packages (from tensorflow) (4.25.5)\n",
            "Requirement already satisfied: requests<3,>=2.21.0 in /usr/local/lib/python3.10/dist-packages (from tensorflow) (2.32.3)\n",
            "Requirement already satisfied: setuptools in /usr/local/lib/python3.10/dist-packages (from tensorflow) (75.1.0)\n",
            "Requirement already satisfied: six>=1.12.0 in /usr/local/lib/python3.10/dist-packages (from tensorflow) (1.17.0)\n",
            "Requirement already satisfied: termcolor>=1.1.0 in /usr/local/lib/python3.10/dist-packages (from tensorflow) (2.5.0)\n",
            "Requirement already satisfied: typing-extensions>=3.6.6 in /usr/local/lib/python3.10/dist-packages (from tensorflow) (4.12.2)\n",
            "Requirement already satisfied: wrapt>=1.11.0 in /usr/local/lib/python3.10/dist-packages (from tensorflow) (1.17.0)\n",
            "Requirement already satisfied: grpcio<2.0,>=1.24.3 in /usr/local/lib/python3.10/dist-packages (from tensorflow) (1.68.1)\n",
            "Requirement already satisfied: tensorboard<2.19,>=2.18 in /usr/local/lib/python3.10/dist-packages (from tensorflow) (2.18.0)\n",
            "Requirement already satisfied: keras>=3.5.0 in /usr/local/lib/python3.10/dist-packages (from tensorflow) (3.5.0)\n",
            "Requirement already satisfied: numpy<2.1.0,>=1.26.0 in /usr/local/lib/python3.10/dist-packages (from tensorflow) (1.26.4)\n",
            "Requirement already satisfied: h5py>=3.11.0 in /usr/local/lib/python3.10/dist-packages (from tensorflow) (3.12.1)\n",
            "Requirement already satisfied: ml-dtypes<0.5.0,>=0.4.0 in /usr/local/lib/python3.10/dist-packages (from tensorflow) (0.4.1)\n",
            "Requirement already satisfied: tensorflow-io-gcs-filesystem>=0.23.1 in /usr/local/lib/python3.10/dist-packages (from tensorflow) (0.37.1)\n",
            "Requirement already satisfied: scipy>=1.10 in /usr/local/lib/python3.10/dist-packages (from jax) (1.13.1)\n",
            "Requirement already satisfied: wheel<1.0,>=0.23.0 in /usr/local/lib/python3.10/dist-packages (from astunparse>=1.6.0->tensorflow) (0.45.1)\n",
            "Requirement already satisfied: rich in /usr/local/lib/python3.10/dist-packages (from keras>=3.5.0->tensorflow) (13.9.4)\n",
            "Requirement already satisfied: namex in /usr/local/lib/python3.10/dist-packages (from keras>=3.5.0->tensorflow) (0.0.8)\n",
            "Requirement already satisfied: optree in /usr/local/lib/python3.10/dist-packages (from keras>=3.5.0->tensorflow) (0.13.1)\n",
            "Requirement already satisfied: charset-normalizer<4,>=2 in /usr/local/lib/python3.10/dist-packages (from requests<3,>=2.21.0->tensorflow) (3.4.0)\n",
            "Requirement already satisfied: idna<4,>=2.5 in /usr/local/lib/python3.10/dist-packages (from requests<3,>=2.21.0->tensorflow) (3.10)\n",
            "Requirement already satisfied: urllib3<3,>=1.21.1 in /usr/local/lib/python3.10/dist-packages (from requests<3,>=2.21.0->tensorflow) (2.2.3)\n",
            "Requirement already satisfied: certifi>=2017.4.17 in /usr/local/lib/python3.10/dist-packages (from requests<3,>=2.21.0->tensorflow) (2024.12.14)\n",
            "Requirement already satisfied: markdown>=2.6.8 in /usr/local/lib/python3.10/dist-packages (from tensorboard<2.19,>=2.18->tensorflow) (3.7)\n",
            "Requirement already satisfied: tensorboard-data-server<0.8.0,>=0.7.0 in /usr/local/lib/python3.10/dist-packages (from tensorboard<2.19,>=2.18->tensorflow) (0.7.2)\n",
            "Requirement already satisfied: werkzeug>=1.0.1 in /usr/local/lib/python3.10/dist-packages (from tensorboard<2.19,>=2.18->tensorflow) (3.1.3)\n",
            "Requirement already satisfied: MarkupSafe>=2.1.1 in /usr/local/lib/python3.10/dist-packages (from werkzeug>=1.0.1->tensorboard<2.19,>=2.18->tensorflow) (3.0.2)\n",
            "Requirement already satisfied: markdown-it-py>=2.2.0 in /usr/local/lib/python3.10/dist-packages (from rich->keras>=3.5.0->tensorflow) (3.0.0)\n",
            "Requirement already satisfied: pygments<3.0.0,>=2.13.0 in /usr/local/lib/python3.10/dist-packages (from rich->keras>=3.5.0->tensorflow) (2.18.0)\n",
            "Requirement already satisfied: mdurl~=0.1 in /usr/local/lib/python3.10/dist-packages (from markdown-it-py>=2.2.0->rich->keras>=3.5.0->tensorflow) (0.1.2)\n"
          ]
        }
      ]
    },
    {
      "cell_type": "code",
      "source": [
        "#TensorFlow ve Keras kullanılarak bir görüntü sınıflandırma modeli oluşturmak için gerekli ayarları ve katmanları hazırlar.\n",
        "import tensorflow as tf #tensorflow'un tüm fonksiyonlarına tf kısaltmasıyla erişilebilir.\n",
        "from tensorflow.keras.models import Model #keras'dan Model sınıfını içeri aktarır. Model sınıfı Keras'da katmanları birbirine bağlayarak bir sinir ağı modeli oluşturmak için kullanılır.\n",
        "from tensorflow.keras import layers, models #keras katmanları ve modelleri içe aktarma (layers: katmanlar models: model tanımlama ve oluşturma işlevlerini içerir)\n",
        "from tensorflow.keras.layers import Conv2D, MaxPooling2D, AveragePooling2D, Dense, Dropout, Activation\n",
        "from tensorflow.keras.layers import BatchNormalization, GlobalAveragePooling2D, SeparableConv2D\n",
        "from tensorflow.keras.layers import Conv2DTranspose, ZeroPadding2D, SpatialDropout2D\n",
        "from tensorflow.keras.optimizers import Adam\n",
        "from tensorflow.keras import Input\n",
        "\n",
        "# input_shape, modele verilecek giriş görüntülerinin boyutunu belirtir. Burada (28, 28, 3) ifadesi, 28x28 piksel boyutunda ve 3 kanal (RGB) olan görüntüler için ayarlanmıştır.\n",
        "input_shape = (28, 28, 3)\n",
        "\n",
        "# modelin tahmin edeceği sınıf sayısını belirtir\n",
        "num_classes = 3"
      ],
      "metadata": {
        "id": "wl23v2sPKIaG"
      },
      "execution_count": null,
      "outputs": []
    },
    {
      "cell_type": "markdown",
      "source": [
        "    Convolution Katmanları (evrişimsel katmanlar)\n",
        "Bu katmanlar, görüntü verilerinden özellik çıkarımı yapmak için kullanılır. Filtreler(kernels) sayesinde görüntüdeki özellikler (kenarlar, dokulari renk geçişleri) tespit edilir.\n",
        "\n",
        "Conv2D: 2D Convolution katmanı\n",
        "--\n",
        "- Görsellerdeki kenarları ve özellikleri öğrenmek için kullanılır. (lezyonların şekli dokusu gibi özellikleri bu katmanda tespit edilir.)\n",
        "- Parametreler: Filtre sayısı, filtre boyutu, aktivasyon fonksiyonu.\n",
        "\n",
        "SeparableConv2D:\n",
        "--\n",
        "- Standart Convolution'a göre daha hızlıdır.\n",
        "- Hesaplama maliyetini azaltırken, model performansını korur.\n",
        "\n",
        "Conv2DTranspose:\n",
        "--\n",
        "- Görüntünün boyutunu artırır. Segmentasyon modellerinde kullanır. (segmentasyon: bir görüntüyü piksel gruplarına ayırma işlemi)\n",
        "- Cilt kanseri görüntülerine segmentasyon yaparken kullandığım katman\n",
        "\n",
        "\n",
        "    Havuzlama Katmanları\n",
        "Bu katmanlari evrişim katmanlarından çıkan özellik haritalarının boyutlarını küçültmek ve önemli özellikleri korumak için kullanılır.\n",
        "\n",
        "MaxPooling2D:\n",
        "--\n",
        "- Görüntünün boyutunu küçültür.\n",
        "- Her bölgedeki en yüksek piksel değerini alır. Bu işlem, önemli özellikleri korur ve önemsiz detayları atar. Böylece modelin gereksiz detaylarla aşırı uyum sağlamasını önler.\n",
        "- Önemli Özellikleri Korur. (Görseldeki kenar, desen veya doku gibi belirgin özellikleri tutar.)\n",
        "\n",
        "\n",
        "AveragePooling2D:\n",
        "--\n",
        "- Maxpooling'e benzer şekilde görüntünün boyutunu küçültür, ancak bu sefer her bölgenin ortalama değerini seçer.\n",
        "- Bazı durumlarda özelliklerin ortalama değerlerini korumak daha iyi sonuç verebilir.\n",
        "\n",
        "GlobalAveragePooling2D:\n",
        "--\n",
        "- Her özellik haritasının ortalamasını alır ve vektör haline getirir. (özellik haritaları lezyonların kenarlarını, renklerini, dokularını ve diğer ayırt edici özelliklerini yakalar.)\n",
        "- Amaç: Her özellik haritasının genel ortalamasını alarak, tam bağlantılı(dense) katmanlarına geçmeden önce boyut küçültme yapar. Bu sınıflandırma problemlerinde kullanılır.\n",
        "\n",
        "\n",
        "    Normalizasyon ve Regularizasyon Katmanları\n",
        "Bu katmanlar modelin overfitting (aşırı uyum) sorununu önlemek ve eğitim sürecini stabilize etmek için kullanılır.\n",
        "\n",
        "BatchNormalization:\n",
        "--\n",
        "- Her batch (toplu işlem) için girdileri normalize eder.\n",
        "- Veri setinde farklı görüntüler arasındaki ölçek farklılıklarını dengelemek için kullanılır.\n",
        "\n",
        "Dropout:\n",
        "--\n",
        "- Eğitim sırasında rastgele nöronları (nöron: yapay sinir ağlarının en küçük yapı taşıdır) devre dışı bırakır. Overfitting'i önlemek için kullanılır.\n",
        "- Veri setim sınırlı boyutta olduğu için modelin eğitim verilerine overfitting olmasını engellemek için kullandım\n",
        "\n",
        "\n",
        "SpatialDropout2D:\n",
        "--\n",
        "- Tüm bir özellik haritasını rastgele devre dışı bırakır. Yani, bir özellik haritasındaki tüm pikseller sıfırlanır.\n",
        "- Evrişimsel katmanlarda overfitting'i engellemek için kullanılır. Modelin belirli özelliklere aşırı bağımlı olmasını engeller.\n",
        "\n",
        "\n",
        "    Aktivasyon Katmanları\n",
        "\n",
        "Activation:\n",
        "--\n",
        "- Evrişim veya tam bağlantılı katmanların çıktısına aktivasyon fonksiyonu uygular. (örnek ReLU, sigmoid, softmax gibi fonks)\n",
        "- Modelin doğrusal olmayan özellikler öğrenmesini sağlar. Örneğin ReLU fonksiyonu negatif değerleri sıfırlar ve pozitif değerleri korur. Bu da modelin daha hızlı öğrenmesini sağlar.  \n",
        "-(Doğrusal Modellerin Sınırlılığı: Eğer bir model sadece doğrusal ilişkiler öğrenebilseydi, karmaşık problemleri (örneğin, görüntü sınıflandırma) çözemezdi. Karmaşık Özellikler: Gerçek dünya problemleri genellikle doğrusal değildir. Örneğin, bir görüntüdeki nesnelerin şekli, rengi ve dokusu gibi özellikler doğrusal olmayan ilişkiler içerir.)\n",
        "\n",
        "\n",
        "    Diğer Yardımı Katmanlar\n",
        "\n",
        "ZeroPadding2D:\n",
        "--\n",
        "- Görüntünün etrafına sıfırlardan oluşan bir kenar ekler.\n",
        "- Evrişim işlemleri sırasında görüntünün boyutunun küçülmesini engellemek için kullanılır.\n",
        "\n",
        "\n",
        "    Tam Bağlantılı (Dense) Katmanlar\n",
        "\n",
        "Dense:\n",
        "--\n",
        "- Evrişim katmanlarından çıkan özellik haritalarını birleştirir ve sınıflandırma işlemi yapar.\n",
        "- Modelin sonunda cilt kanseri türlerini sınıflandırmak için kullandım."
      ],
      "metadata": {
        "id": "DDvRHZxZiqYx"
      }
    },
    {
      "cell_type": "markdown",
      "source": [
        "TensorFlow: derin öğrenme modelleri oluşturmak, eğitmek ve değerlendirmek için kullanılan bir kütüphanedir.\n",
        "\n",
        "Keras: TensorFlow’un üzerine kurulmuş ve işleri daha kolay hale getiren bir araçtır. Daha az kod yazmanızı sağlar.\n",
        "\n"
      ],
      "metadata": {
        "id": "XbrLMKxKBYHi"
      }
    },
    {
      "cell_type": "code",
      "source": [
        "# Xtrain, başlangıçta 28x28 piksel boyutundayken, tf.image.resize fonksiyonuyla 128x128 piksel boyutuna çıkarılır.\n",
        "#Yeni boyutlandırılmış görüntüler Xtrain_resized değişkeninde saklanır. Bu, modelin daha büyük boyutlardaki özellikleri öğrenebilmesi için görüntülerin çözünürlüğünü artırır.\n",
        "Xtrain_resized = tf.image.resize(Xtrain, (128, 128))\n",
        "\n",
        "# Bu satır, Xtest (test verileri) veri kümesindeki görüntüleri aynı şekilde 128x128 piksel boyutuna ölçeklendirir.\n",
        "Xtest_resized = tf.image.resize(Xtest, (128, 128))"
      ],
      "metadata": {
        "id": "Ta31ESYkKKBE"
      },
      "execution_count": null,
      "outputs": []
    },
    {
      "cell_type": "code",
      "source": [
        "import tensorflow as tf\n",
        "from tensorflow.keras.preprocessing.image import ImageDataGenerator\n",
        "from tensorflow.keras.applications import MobileNetV2\n",
        "from tensorflow.keras.layers import Dense, Flatten #flatten çok boyutlu tensörü tek boyutlu tensöre dönüştürür. evrişim katmanından sonra tam bağlı katmanlara geçiş için kullanılır. Dense de her bir giriş her bir çıkışa bağlıdır.\n",
        "from tensorflow.keras.models import Model #kerasta modeloluşturmak için kullanılan sınıf\n",
        "#tensör: çok boyutlu dizi veya matrisler\n",
        "\n",
        "# Eğitim sırasında görüntüleri döndürme, kaydırma, ölçekleme gibi işlemlerle modeli daha sağlam ve dayanıklı hale getirildi\n",
        "datagen = ImageDataGenerator(\n",
        "    rotation_range=20,         # 20 derece aralığında rastgele görüntü döndürme\n",
        "    width_shift_range=0.2,     # Görüntüyü yatay olarak %20 kaydırma\n",
        "    height_shift_range=0.2,    # Görüntüyü dikey olarak %20 kaydırma\n",
        "    zoom_range=0.2,            # Resmi %20 oranında rastgele büyütün veya küçültün\n",
        "    horizontal_flip=True,      # Görüntüyü yatay olarak çevirir\n",
        "    fill_mode='nearest'        # Eksik pikselleri en yakın yöntemle doldurun\n",
        ")\n",
        "# Eğitim verilerinde veri artırma gerçekleştirin (Xtrain_resize)\n",
        "train_datagen = datagen.flow(Xtrain_resized, Ytrain, batch_size=32) #batch_size=32, her adımda modele verilecek 32 görüntü oluşturur.\n",
        "\n",
        "# ImageNet'te önceden eğitilmiş ağırlıklarla bir MobileNetV2 modeli yüklenedi\n",
        "base_model = MobileNetV2(input_shape=(128, 128, 3), include_top=False, weights='imagenet') #ImageNet veri setinde önceden eğitilmiş MobileNetV2 modelini yükler.\n",
        "base_model.trainable = False #önceden eğitilmiş modelin ağırlıklarını dondurur. eğitim sırasında güncellenmez\n",
        "\n",
        "# MobileNetV2'yi temel alarak yeni bir model oluşturun ve sınıflandırma için bir çıktı katmanı ekleyin\n",
        "model = tf.keras.Sequential([\n",
        "    base_model,\n",
        "    Flatten(), #Evrişimli katmanların çıktısını tek boyutlu bir vektöre düzleştirir.\n",
        "    Dense(128, activation='relu'),\n",
        "    Dense(num_classes, activation='softmax') #çıkış fonksiyonu. her bir sınıf için olasılık skorları üretir. softmax aktivasyon fonksiyonu bu skorları olasılık dağılımına dönüştürür.\n",
        "])\n",
        "\n",
        "# Model derlemesini gerçekleştirin\n",
        "model.compile(optimizer='adam',\n",
        "             loss='sparse_categorical_crossentropy',\n",
        "             metrics=['accuracy'])\n",
        "\n",
        "# Veri artırmaya sahip eğitim modelleri\n",
        "history = model.fit(train_datagen, epochs=30, validation_data=(Xtest_resized, Ytest)) #30 kez eğitilcek\n",
        "\n",
        "# Model değerlendirmesi\n",
        "test_loss, test_acc = model.evaluate(Xtest_resized, Ytest)\n",
        "print(f'Test accuracy: {test_acc}')"
      ],
      "metadata": {
        "id": "BUkWBj3vKLXk"
      },
      "execution_count": null,
      "outputs": []
    },
    {
      "cell_type": "markdown",
      "source": [
        "include_top=False: Orijinal modelin sınıflandırma katmanlarını (son katmanlarını) dahil etmez. Bu, modelin yalnızca özellik çıkarıcı olarak kullanılacağı anlamına gelir.\n",
        "base_model.trainable = False: Modelin önceden eğitilmiş ağırlıkları dondurulur, böylece eğitim sırasında güncellenmez.\n",
        "\n",
        "\n",
        "Amaç: MobileNetV2'nin üzerine yeni sınıflandırma katmanları eklemek.\n",
        "Katmanlar:\n",
        "Flatten(): 4 boyutlu çıktı, tam bağlantılı katmanlara uygun bir vektöre dönüştürülür.\n",
        "Dense(128, activation='relu'): 128 nöronlu bir tam bağlantılı katman, ReLU aktivasyonu ile.\n",
        "Dense(num_classes, activation='softmax'): Sınıf sayısına (örneğin, 3) göre çıktı üreten son katman.\n"
      ],
      "metadata": {
        "id": "2kBLzxjd5Q92"
      }
    },
    {
      "cell_type": "code",
      "source": [
        "model.save(\"mobil_last2.h5\")\n",
        "\n",
        "from google.colab import files\n",
        "files.download(\"mobil_last2.h5\")"
      ],
      "metadata": {
        "colab": {
          "base_uri": "https://localhost:8080/",
          "height": 54
        },
        "id": "2slPXlqScxIt",
        "outputId": "c60f3596-13e9-417d-cbbe-bc7477d36030"
      },
      "execution_count": null,
      "outputs": [
        {
          "output_type": "stream",
          "name": "stderr",
          "text": [
            "WARNING:absl:You are saving your model as an HDF5 file via `model.save()` or `keras.saving.save_model(model)`. This file format is considered legacy. We recommend using instead the native Keras format, e.g. `model.save('my_model.keras')` or `keras.saving.save_model(model, 'my_model.keras')`. \n"
          ]
        },
        {
          "output_type": "display_data",
          "data": {
            "text/plain": [
              "<IPython.core.display.Javascript object>"
            ],
            "application/javascript": [
              "\n",
              "    async function download(id, filename, size) {\n",
              "      if (!google.colab.kernel.accessAllowed) {\n",
              "        return;\n",
              "      }\n",
              "      const div = document.createElement('div');\n",
              "      const label = document.createElement('label');\n",
              "      label.textContent = `Downloading \"${filename}\": `;\n",
              "      div.appendChild(label);\n",
              "      const progress = document.createElement('progress');\n",
              "      progress.max = size;\n",
              "      div.appendChild(progress);\n",
              "      document.body.appendChild(div);\n",
              "\n",
              "      const buffers = [];\n",
              "      let downloaded = 0;\n",
              "\n",
              "      const channel = await google.colab.kernel.comms.open(id);\n",
              "      // Send a message to notify the kernel that we're ready.\n",
              "      channel.send({})\n",
              "\n",
              "      for await (const message of channel.messages) {\n",
              "        // Send a message to notify the kernel that we're ready.\n",
              "        channel.send({})\n",
              "        if (message.buffers) {\n",
              "          for (const buffer of message.buffers) {\n",
              "            buffers.push(buffer);\n",
              "            downloaded += buffer.byteLength;\n",
              "            progress.value = downloaded;\n",
              "          }\n",
              "        }\n",
              "      }\n",
              "      const blob = new Blob(buffers, {type: 'application/binary'});\n",
              "      const a = document.createElement('a');\n",
              "      a.href = window.URL.createObjectURL(blob);\n",
              "      a.download = filename;\n",
              "      div.appendChild(a);\n",
              "      a.click();\n",
              "      div.remove();\n",
              "    }\n",
              "  "
            ]
          },
          "metadata": {}
        },
        {
          "output_type": "display_data",
          "data": {
            "text/plain": [
              "<IPython.core.display.Javascript object>"
            ],
            "application/javascript": [
              "download(\"download_2b712236-b7d4-44fb-9c5b-939f1f5d672a\", \"mobil_last2.h5\", 40866672)"
            ]
          },
          "metadata": {}
        }
      ]
    },
    {
      "cell_type": "code",
      "source": [
        "from sklearn.metrics import precision_score, recall_score, f1_score, accuracy_score\n",
        "import pandas as pd\n",
        "\n",
        "# Tahmin değerlerini elde etme\n",
        "y_pred = np.argmax(model.predict(Xtest_resized), axis=1)\n",
        "\n",
        "# Genel metrikleri hesaplama\n",
        "precision = precision_score(Ytest, y_pred, average='weighted')\n",
        "recall = recall_score(Ytest, y_pred, average='weighted')\n",
        "f1 = f1_score(Ytest, y_pred, average='weighted')\n",
        "accuracy = accuracy_score(Ytest, y_pred)\n",
        "\n",
        "# Metrikleri DataFrame olarak düzenleme\n",
        "metrics_df = pd.DataFrame({\n",
        "    'Precision': [precision],\n",
        "    'Recall': [recall],\n",
        "    'F1-Score': [f1],\n",
        "    'Accuracy': [accuracy]\n",
        "})\n",
        "\n",
        "# Sonuçları gösterme\n",
        "print(metrics_df)\n"
      ],
      "metadata": {
        "colab": {
          "base_uri": "https://localhost:8080/"
        },
        "id": "q_TUNYSb2hcY",
        "outputId": "bb89aaa8-c7a9-4748-83fd-87230ce029ae"
      },
      "execution_count": null,
      "outputs": [
        {
          "output_type": "stream",
          "name": "stdout",
          "text": [
            "\u001b[1m63/63\u001b[0m \u001b[32m━━━━━━━━━━━━━━━━━━━━\u001b[0m\u001b[37m\u001b[0m \u001b[1m6s\u001b[0m 53ms/step\n",
            "   Precision    Recall  F1-Score  Accuracy\n",
            "0   0.782671  0.761928  0.760361  0.761928\n"
          ]
        }
      ]
    },
    {
      "cell_type": "code",
      "source": [
        "import numpy as np\n",
        "import matplotlib.pyplot as plt\n",
        "import seaborn as sns\n",
        "from sklearn.metrics import confusion_matrix, classification_report\n",
        "\n",
        "# Model ile test verilerini tahmin etme\n",
        "y_pred = np.argmax(model.predict(Xtest_resized), axis=1)\n",
        "\n",
        "# Karşıtlık matrisini oluşturma\n",
        "cm = confusion_matrix(Ytest, y_pred)\n",
        "\n",
        "# Sınıf isimlerini tanımlama (seçilen sınıflar)\n",
        "class_names = ['nv', 'mel', 'bkl']  # Sadece üç sınıf\n",
        "\n",
        "# Karşıtlık matrisini görselleştirme\n",
        "plt.figure(figsize=(10, 8))\n",
        "sns.heatmap(cm, annot=True, fmt=\"d\", cmap=\"Blues\", xticklabels=class_names, yticklabels=class_names)\n",
        "plt.xlabel(\"Predicted Labels\")\n",
        "plt.ylabel(\"True Labels\")\n",
        "plt.title(\"Confusion Matrix for Selected Classes (nv, mel, bkl)\")\n",
        "plt.show()\n"
      ],
      "metadata": {
        "colab": {
          "base_uri": "https://localhost:8080/",
          "height": 735
        },
        "id": "1SrWnTFY2wgj",
        "outputId": "5b4ef50f-3fa6-4e4e-c51f-9dea170ae3f0"
      },
      "execution_count": null,
      "outputs": [
        {
          "output_type": "stream",
          "name": "stdout",
          "text": [
            "\u001b[1m63/63\u001b[0m \u001b[32m━━━━━━━━━━━━━━━━━━━━\u001b[0m\u001b[37m\u001b[0m \u001b[1m0s\u001b[0m 6ms/step\n"
          ]
        },
        {
          "output_type": "display_data",
          "data": {
            "text/plain": [
              "<Figure size 1000x800 with 2 Axes>"
            ],
            "image/png": "[encoded data removed]"
          },
          "metadata": {}
        }
      ]
    },
    {
      "cell_type": "code",
      "source": [
        "import tensorflow as tf\n",
        "from tensorflow.keras.preprocessing.image import ImageDataGenerator\n",
        "from tensorflow.keras.applications import MobileNetV2\n",
        "from tensorflow.keras.layers import Dense, Flatten\n",
        "from tensorflow.keras.models import Model\n",
        "\n",
        "\n",
        "datagen = ImageDataGenerator(\n",
        "    rotation_range=20,\n",
        "    width_shift_range=0.2,\n",
        "    height_shift_range=0.2,\n",
        "    zoom_range=0.2,\n",
        "    horizontal_flip=True,\n",
        "    fill_mode='nearest'\n",
        ")\n",
        "\n",
        "# eğitim verilerine veri artırma\n",
        "train_datagen = datagen.flow(Xtrain_resized, Ytrain, batch_size=32)\n",
        "\n",
        "# ImageNet'te önceden eğitilmiş ağırlıklarla bir MobileNetV2 modeli yükleme\n",
        "base_model = MobileNetV2(input_shape=(128, 128, 3), include_top=False, weights='imagenet')\n",
        "base_model.trainable = False\n",
        "\n",
        "# MobileNetV2 ile yeni bir model oluşturun ve sınıflandırma için bir çıktı katmanı ekleme\n",
        "model = tf.keras.Sequential([\n",
        "    base_model,\n",
        "    Flatten(),\n",
        "    Dense(128, activation='relu'),\n",
        "    Dense(num_classes, activation='softmax')\n",
        "])\n",
        "\n",
        "# Model derlemesini gerçekleştirme\n",
        "model.compile(optimizer='adam',\n",
        "              loss='sparse_categorical_crossentropy',\n",
        "              metrics=['accuracy'])\n",
        "\n",
        "\n",
        "history = model.fit(train_datagen, epochs=20, validation_data=(Xtest_resized, Ytest))\n",
        "\n",
        "# İnce ayar için MobileNetV2'nin son birkaç katmanını yeniden açma\n",
        "base_model.trainable = True #Önceden eğitilmiş modelin ağırlıklarını çözülürl\n",
        "fine_tune_at = 100 #İlk 100 katmanın ağırlıkları dondurulur, geri kalan katmanlar eğitilebilir hale getirilir.\n",
        "\n",
        "for layer in base_model.layers[:fine_tune_at]:\n",
        "    layer.trainable = False\n",
        "\n",
        "# Modeli daha düşük bir öğrenme oranıyla yeniden derlemek\n",
        "model.compile(optimizer=tf.keras.optimizers.Adam(learning_rate=1e-5), #düşük öğrenme oranı önceden eğitilmiş ağırlıkların çok değişmesini önler\n",
        "              loss='sparse_categorical_crossentropy',\n",
        "              metrics=['accuracy'])\n",
        "\n",
        "# Modeli ince ayar ile tekrar eğitme\n",
        "history_fine = model.fit(train_datagen, epochs=20, validation_data=(Xtest_resized, Ytest))\n",
        "\n",
        "# İnce ayardan sonra modeli değerlendirme\n",
        "test_loss, test_acc = model.evaluate(Xtest_resized, Ytest)\n",
        "print(f'Test accuracy after fine-tuning: {test_acc}')"
      ],
      "metadata": {
        "colab": {
          "base_uri": "https://localhost:8080/"
        },
        "id": "V4Fcyn5jeTYV",
        "outputId": "98025ad8-71f1-4e1e-9829-183c24e7523f"
      },
      "execution_count": null,
      "outputs": [
        {
          "output_type": "stream",
          "name": "stdout",
          "text": [
            "Epoch 1/20\n"
          ]
        },
        {
          "output_type": "stream",
          "name": "stderr",
          "text": [
            "/usr/local/lib/python3.10/dist-packages/keras/src/trainers/data_adapters/py_dataset_adapter.py:122: UserWarning: Your `PyDataset` class should call `super().__init__(**kwargs)` in its constructor. `**kwargs` can include `workers`, `use_multiprocessing`, `max_queue_size`. Do not pass these arguments to `fit()`, as they will be ignored.\n",
            "  self._warn_if_super_not_called()\n"
          ]
        },
        {
          "output_type": "stream",
          "name": "stdout",
          "text": [
            "\u001b[1m566/566\u001b[0m \u001b[32m━━━━━━━━━━━━━━━━━━━━\u001b[0m\u001b[37m\u001b[0m \u001b[1m77s\u001b[0m 123ms/step - accuracy: 0.5857 - loss: 1.2061 - val_accuracy: 0.6486 - val_loss: 0.7366\n",
            "Epoch 2/20\n",
            "\u001b[1m566/566\u001b[0m \u001b[32m━━━━━━━━━━━━━━━━━━━━\u001b[0m\u001b[37m\u001b[0m \u001b[1m65s\u001b[0m 113ms/step - accuracy: 0.6596 - loss: 0.7568 - val_accuracy: 0.6998 - val_loss: 0.6709\n",
            "Epoch 3/20\n",
            "\u001b[1m566/566\u001b[0m \u001b[32m━━━━━━━━━━━━━━━━━━━━\u001b[0m\u001b[37m\u001b[0m \u001b[1m65s\u001b[0m 113ms/step - accuracy: 0.6748 - loss: 0.7342 - val_accuracy: 0.7083 - val_loss: 0.6408\n",
            "Epoch 4/20\n",
            "\u001b[1m566/566\u001b[0m \u001b[32m━━━━━━━━━━━━━━━━━━━━\u001b[0m\u001b[37m\u001b[0m \u001b[1m65s\u001b[0m 113ms/step - accuracy: 0.6902 - loss: 0.7005 - val_accuracy: 0.7092 - val_loss: 0.6702\n",
            "Epoch 5/20\n",
            "\u001b[1m566/566\u001b[0m \u001b[32m━━━━━━━━━━━━━━━━━━━━\u001b[0m\u001b[37m\u001b[0m \u001b[1m65s\u001b[0m 113ms/step - accuracy: 0.7002 - loss: 0.6813 - val_accuracy: 0.7376 - val_loss: 0.5980\n",
            "Epoch 6/20\n",
            "\u001b[1m566/566\u001b[0m \u001b[32m━━━━━━━━━━━━━━━━━━━━\u001b[0m\u001b[37m\u001b[0m \u001b[1m65s\u001b[0m 113ms/step - accuracy: 0.7057 - loss: 0.6715 - val_accuracy: 0.7465 - val_loss: 0.5981\n",
            "Epoch 7/20\n",
            "\u001b[1m566/566\u001b[0m \u001b[32m━━━━━━━━━━━━━━━━━━━━\u001b[0m\u001b[37m\u001b[0m \u001b[1m65s\u001b[0m 113ms/step - accuracy: 0.7093 - loss: 0.6511 - val_accuracy: 0.7475 - val_loss: 0.5927\n",
            "Epoch 8/20\n",
            "\u001b[1m566/566\u001b[0m \u001b[32m━━━━━━━━━━━━━━━━━━━━\u001b[0m\u001b[37m\u001b[0m \u001b[1m65s\u001b[0m 113ms/step - accuracy: 0.7070 - loss: 0.6603 - val_accuracy: 0.7609 - val_loss: 0.5628\n",
            "Epoch 9/20\n",
            "\u001b[1m566/566\u001b[0m \u001b[32m━━━━━━━━━━━━━━━━━━━━\u001b[0m\u001b[37m\u001b[0m \u001b[1m64s\u001b[0m 113ms/step - accuracy: 0.7135 - loss: 0.6513 - val_accuracy: 0.7530 - val_loss: 0.5787\n",
            "Epoch 10/20\n",
            "\u001b[1m566/566\u001b[0m \u001b[32m━━━━━━━━━━━━━━━━━━━━\u001b[0m\u001b[37m\u001b[0m \u001b[1m64s\u001b[0m 113ms/step - accuracy: 0.7256 - loss: 0.6287 - val_accuracy: 0.7411 - val_loss: 0.5970\n",
            "Epoch 11/20\n",
            "\u001b[1m566/566\u001b[0m \u001b[32m━━━━━━━━━━━━━━━━━━━━\u001b[0m\u001b[37m\u001b[0m \u001b[1m65s\u001b[0m 113ms/step - accuracy: 0.7305 - loss: 0.6148 - val_accuracy: 0.7485 - val_loss: 0.5739\n",
            "Epoch 12/20\n",
            "\u001b[1m566/566\u001b[0m \u001b[32m━━━━━━━━━━━━━━━━━━━━\u001b[0m\u001b[37m\u001b[0m \u001b[1m65s\u001b[0m 113ms/step - accuracy: 0.7243 - loss: 0.6222 - val_accuracy: 0.7535 - val_loss: 0.5596\n",
            "Epoch 13/20\n",
            "\u001b[1m566/566\u001b[0m \u001b[32m━━━━━━━━━━━━━━━━━━━━\u001b[0m\u001b[37m\u001b[0m \u001b[1m64s\u001b[0m 113ms/step - accuracy: 0.7329 - loss: 0.6069 - val_accuracy: 0.7783 - val_loss: 0.5513\n",
            "Epoch 14/20\n",
            "\u001b[1m566/566\u001b[0m \u001b[32m━━━━━━━━━━━━━━━━━━━━\u001b[0m\u001b[37m\u001b[0m \u001b[1m65s\u001b[0m 113ms/step - accuracy: 0.7307 - loss: 0.6141 - val_accuracy: 0.7838 - val_loss: 0.5475\n",
            "Epoch 15/20\n",
            "\u001b[1m566/566\u001b[0m \u001b[32m━━━━━━━━━━━━━━━━━━━━\u001b[0m\u001b[37m\u001b[0m \u001b[1m65s\u001b[0m 113ms/step - accuracy: 0.7352 - loss: 0.6159 - val_accuracy: 0.7888 - val_loss: 0.5105\n",
            "Epoch 16/20\n",
            "\u001b[1m566/566\u001b[0m \u001b[32m━━━━━━━━━━━━━━━━━━━━\u001b[0m\u001b[37m\u001b[0m \u001b[1m65s\u001b[0m 113ms/step - accuracy: 0.7402 - loss: 0.6064 - val_accuracy: 0.7724 - val_loss: 0.5294\n",
            "Epoch 17/20\n",
            "\u001b[1m566/566\u001b[0m \u001b[32m━━━━━━━━━━━━━━━━━━━━\u001b[0m\u001b[37m\u001b[0m \u001b[1m65s\u001b[0m 113ms/step - accuracy: 0.7460 - loss: 0.5910 - val_accuracy: 0.7768 - val_loss: 0.5369\n",
            "Epoch 18/20\n",
            "\u001b[1m566/566\u001b[0m \u001b[32m━━━━━━━━━━━━━━━━━━━━\u001b[0m\u001b[37m\u001b[0m \u001b[1m65s\u001b[0m 113ms/step - accuracy: 0.7522 - loss: 0.5757 - val_accuracy: 0.7555 - val_loss: 0.5652\n",
            "Epoch 19/20\n",
            "\u001b[1m566/566\u001b[0m \u001b[32m━━━━━━━━━━━━━━━━━━━━\u001b[0m\u001b[37m\u001b[0m \u001b[1m64s\u001b[0m 112ms/step - accuracy: 0.7547 - loss: 0.5809 - val_accuracy: 0.7649 - val_loss: 0.5343\n",
            "Epoch 20/20\n",
            "\u001b[1m566/566\u001b[0m \u001b[32m━━━━━━━━━━━━━━━━━━━━\u001b[0m\u001b[37m\u001b[0m \u001b[1m65s\u001b[0m 113ms/step - accuracy: 0.7516 - loss: 0.5745 - val_accuracy: 0.7893 - val_loss: 0.5338\n",
            "Epoch 1/20\n",
            "\u001b[1m566/566\u001b[0m \u001b[32m━━━━━━━━━━━━━━━━━━━━\u001b[0m\u001b[37m\u001b[0m \u001b[1m98s\u001b[0m 137ms/step - accuracy: 0.5185 - loss: 2.5449 - val_accuracy: 0.6287 - val_loss: 1.1843\n",
            "Epoch 2/20\n",
            "\u001b[1m566/566\u001b[0m \u001b[32m━━━━━━━━━━━━━━━━━━━━\u001b[0m\u001b[37m\u001b[0m \u001b[1m65s\u001b[0m 113ms/step - accuracy: 0.5777 - loss: 1.3678 - val_accuracy: 0.6034 - val_loss: 1.3811\n",
            "Epoch 3/20\n",
            "\u001b[1m566/566\u001b[0m \u001b[32m━━━━━━━━━━━━━━━━━━━━\u001b[0m\u001b[37m\u001b[0m \u001b[1m65s\u001b[0m 113ms/step - accuracy: 0.5972 - loss: 1.0676 - val_accuracy: 0.6173 - val_loss: 1.1501\n",
            "Epoch 4/20\n",
            "\u001b[1m566/566\u001b[0m \u001b[32m━━━━━━━━━━━━━━━━━━━━\u001b[0m\u001b[37m\u001b[0m \u001b[1m65s\u001b[0m 113ms/step - accuracy: 0.6113 - loss: 0.9306 - val_accuracy: 0.6446 - val_loss: 0.9427\n",
            "Epoch 5/20\n",
            "\u001b[1m566/566\u001b[0m \u001b[32m━━━━━━━━━━━━━━━━━━━━\u001b[0m\u001b[37m\u001b[0m \u001b[1m65s\u001b[0m 113ms/step - accuracy: 0.6383 - loss: 0.8513 - val_accuracy: 0.6635 - val_loss: 0.7962\n",
            "Epoch 6/20\n",
            "\u001b[1m566/566\u001b[0m \u001b[32m━━━━━━━━━━━━━━━━━━━━\u001b[0m\u001b[37m\u001b[0m \u001b[1m65s\u001b[0m 113ms/step - accuracy: 0.6378 - loss: 0.8244 - val_accuracy: 0.6909 - val_loss: 0.7234\n",
            "Epoch 7/20\n",
            "\u001b[1m566/566\u001b[0m \u001b[32m━━━━━━━━━━━━━━━━━━━━\u001b[0m\u001b[37m\u001b[0m \u001b[1m65s\u001b[0m 114ms/step - accuracy: 0.6548 - loss: 0.7827 - val_accuracy: 0.7068 - val_loss: 0.6761\n",
            "Epoch 8/20\n",
            "\u001b[1m566/566\u001b[0m \u001b[32m━━━━━━━━━━━━━━━━━━━━\u001b[0m\u001b[37m\u001b[0m \u001b[1m65s\u001b[0m 114ms/step - accuracy: 0.6646 - loss: 0.7618 - val_accuracy: 0.7132 - val_loss: 0.6677\n",
            "Epoch 9/20\n",
            "\u001b[1m566/566\u001b[0m \u001b[32m━━━━━━━━━━━━━━━━━━━━\u001b[0m\u001b[37m\u001b[0m \u001b[1m65s\u001b[0m 114ms/step - accuracy: 0.6786 - loss: 0.7347 - val_accuracy: 0.7217 - val_loss: 0.6406\n",
            "Epoch 10/20\n",
            "\u001b[1m566/566\u001b[0m \u001b[32m━━━━━━━━━━━━━━━━━━━━\u001b[0m\u001b[37m\u001b[0m \u001b[1m65s\u001b[0m 113ms/step - accuracy: 0.6860 - loss: 0.7217 - val_accuracy: 0.7251 - val_loss: 0.6388\n",
            "Epoch 11/20\n",
            "\u001b[1m566/566\u001b[0m \u001b[32m━━━━━━━━━━━━━━━━━━━━\u001b[0m\u001b[37m\u001b[0m \u001b[1m65s\u001b[0m 114ms/step - accuracy: 0.6896 - loss: 0.6980 - val_accuracy: 0.7480 - val_loss: 0.5994\n",
            "Epoch 12/20\n",
            "\u001b[1m566/566\u001b[0m \u001b[32m━━━━━━━━━━━━━━━━━━━━\u001b[0m\u001b[37m\u001b[0m \u001b[1m65s\u001b[0m 113ms/step - accuracy: 0.7073 - loss: 0.6716 - val_accuracy: 0.7654 - val_loss: 0.5676\n",
            "Epoch 13/20\n",
            "\u001b[1m566/566\u001b[0m \u001b[32m━━━━━━━━━━━━━━━━━━━━\u001b[0m\u001b[37m\u001b[0m \u001b[1m65s\u001b[0m 113ms/step - accuracy: 0.7108 - loss: 0.6565 - val_accuracy: 0.7783 - val_loss: 0.5683\n",
            "Epoch 14/20\n",
            "\u001b[1m566/566\u001b[0m \u001b[32m━━━━━━━━━━━━━━━━━━━━\u001b[0m\u001b[37m\u001b[0m \u001b[1m65s\u001b[0m 113ms/step - accuracy: 0.7267 - loss: 0.6299 - val_accuracy: 0.7838 - val_loss: 0.5535\n",
            "Epoch 15/20\n",
            "\u001b[1m566/566\u001b[0m \u001b[32m━━━━━━━━━━━━━━━━━━━━\u001b[0m\u001b[37m\u001b[0m \u001b[1m65s\u001b[0m 113ms/step - accuracy: 0.7348 - loss: 0.6200 - val_accuracy: 0.7843 - val_loss: 0.5379\n",
            "Epoch 16/20\n",
            "\u001b[1m566/566\u001b[0m \u001b[32m━━━━━━━━━━━━━━━━━━━━\u001b[0m\u001b[37m\u001b[0m \u001b[1m65s\u001b[0m 113ms/step - accuracy: 0.7351 - loss: 0.6111 - val_accuracy: 0.8052 - val_loss: 0.5081\n",
            "Epoch 17/20\n",
            "\u001b[1m566/566\u001b[0m \u001b[32m━━━━━━━━━━━━━━━━━━━━\u001b[0m\u001b[37m\u001b[0m \u001b[1m65s\u001b[0m 113ms/step - accuracy: 0.7502 - loss: 0.5864 - val_accuracy: 0.8067 - val_loss: 0.5000\n",
            "Epoch 18/20\n",
            "\u001b[1m566/566\u001b[0m \u001b[32m━━━━━━━━━━━━━━━━━━━━\u001b[0m\u001b[37m\u001b[0m \u001b[1m65s\u001b[0m 114ms/step - accuracy: 0.7526 - loss: 0.5774 - val_accuracy: 0.8216 - val_loss: 0.4771\n",
            "Epoch 19/20\n",
            "\u001b[1m566/566\u001b[0m \u001b[32m━━━━━━━━━━━━━━━━━━━━\u001b[0m\u001b[37m\u001b[0m \u001b[1m65s\u001b[0m 113ms/step - accuracy: 0.7626 - loss: 0.5641 - val_accuracy: 0.8086 - val_loss: 0.4828\n",
            "Epoch 20/20\n",
            "\u001b[1m566/566\u001b[0m \u001b[32m━━━━━━━━━━━━━━━━━━━━\u001b[0m\u001b[37m\u001b[0m \u001b[1m65s\u001b[0m 113ms/step - accuracy: 0.7704 - loss: 0.5425 - val_accuracy: 0.8106 - val_loss: 0.4806\n",
            "\u001b[1m63/63\u001b[0m \u001b[32m━━━━━━━━━━━━━━━━━━━━\u001b[0m\u001b[37m\u001b[0m \u001b[1m0s\u001b[0m 6ms/step - accuracy: 0.8182 - loss: 0.4538\n",
            "Test accuracy after fine-tuning: 0.8106361627578735\n"
          ]
        }
      ]
    },
    {
      "cell_type": "code",
      "source": [
        "import numpy as np\n",
        "import matplotlib.pyplot as plt\n",
        "import seaborn as sns\n",
        "from sklearn.metrics import confusion_matrix, classification_report\n",
        "\n",
        "# Model ile test verilerini tahmin etme\n",
        "y_pred = np.argmax(model.predict(Xtest_resized), axis=1)\n",
        "\n",
        "# Karşıtlık matrisini oluşturma\n",
        "cm = confusion_matrix(Ytest, y_pred)\n",
        "\n",
        "# Sınıf isimlerini tanımlama (seçilen sınıflar)\n",
        "class_names = ['nv', 'mel', 'bkl']  # Sadece üç sınıf\n",
        "\n",
        "# Karşıtlık matrisini görselleştirme\n",
        "plt.figure(figsize=(10, 8))\n",
        "sns.heatmap(cm, annot=True, fmt=\"d\", cmap=\"Blues\", xticklabels=class_names, yticklabels=class_names)\n",
        "plt.xlabel(\"Predicted Labels\")\n",
        "plt.ylabel(\"True Labels\")\n",
        "plt.title(\"Confusion Matrix for Selected Classes (nv, mel, bkl)\")\n",
        "plt.show()\n"
      ],
      "metadata": {
        "id": "a9J0PNzjnqNJ",
        "colab": {
          "base_uri": "https://localhost:8080/",
          "height": 735
        },
        "outputId": "40e08114-2621-4647-c4ae-392eae14a5b7"
      },
      "execution_count": null,
      "outputs": [
        {
          "output_type": "stream",
          "name": "stdout",
          "text": [
            "\u001b[1m63/63\u001b[0m \u001b[32m━━━━━━━━━━━━━━━━━━━━\u001b[0m\u001b[37m\u001b[0m \u001b[1m6s\u001b[0m 48ms/step\n"
          ]
        },
        {
          "output_type": "display_data",
          "data": {
            "text/plain": [
              "<Figure size 1000x800 with 2 Axes>"
            ],
            "image/png": "[encoded data removed]"
          },
          "metadata": {}
        }
      ]
    },
    {
      "cell_type": "code",
      "source": [
        "model.save(\"Mobilenet_fine_last.h5\")\n",
        "from google.colab import files\n",
        "files.download(\"Mobilenet_fine_last.h5\")"
      ],
      "metadata": {
        "colab": {
          "base_uri": "https://localhost:8080/",
          "height": 54
        },
        "id": "9AoZwATwBsl2",
        "outputId": "721ca4d3-83f2-409f-c7ab-58a1ad366b51"
      },
      "execution_count": null,
      "outputs": [
        {
          "output_type": "stream",
          "name": "stderr",
          "text": [
            "WARNING:absl:You are saving your model as an HDF5 file via `model.save()` or `keras.saving.save_model(model)`. This file format is considered legacy. We recommend using instead the native Keras format, e.g. `model.save('my_model.keras')` or `keras.saving.save_model(model, 'my_model.keras')`. \n"
          ]
        },
        {
          "output_type": "display_data",
          "data": {
            "text/plain": [
              "<IPython.core.display.Javascript object>"
            ],
            "application/javascript": [
              "\n",
              "    async function download(id, filename, size) {\n",
              "      if (!google.colab.kernel.accessAllowed) {\n",
              "        return;\n",
              "      }\n",
              "      const div = document.createElement('div');\n",
              "      const label = document.createElement('label');\n",
              "      label.textContent = `Downloading \"${filename}\": `;\n",
              "      div.appendChild(label);\n",
              "      const progress = document.createElement('progress');\n",
              "      progress.max = size;\n",
              "      div.appendChild(progress);\n",
              "      document.body.appendChild(div);\n",
              "\n",
              "      const buffers = [];\n",
              "      let downloaded = 0;\n",
              "\n",
              "      const channel = await google.colab.kernel.comms.open(id);\n",
              "      // Send a message to notify the kernel that we're ready.\n",
              "      channel.send({})\n",
              "\n",
              "      for await (const message of channel.messages) {\n",
              "        // Send a message to notify the kernel that we're ready.\n",
              "        channel.send({})\n",
              "        if (message.buffers) {\n",
              "          for (const buffer of message.buffers) {\n",
              "            buffers.push(buffer);\n",
              "            downloaded += buffer.byteLength;\n",
              "            progress.value = downloaded;\n",
              "          }\n",
              "        }\n",
              "      }\n",
              "      const blob = new Blob(buffers, {type: 'application/binary'});\n",
              "      const a = document.createElement('a');\n",
              "      a.href = window.URL.createObjectURL(blob);\n",
              "      a.download = filename;\n",
              "      div.appendChild(a);\n",
              "      a.click();\n",
              "      div.remove();\n",
              "    }\n",
              "  "
            ]
          },
          "metadata": {}
        },
        {
          "output_type": "display_data",
          "data": {
            "text/plain": [
              "<IPython.core.display.Javascript object>"
            ],
            "application/javascript": [
              "download(\"download_a63b5fec-a342-4686-a160-21a61502a709\", \"Mobilenet_fine_last.h5\", 55803536)"
            ]
          },
          "metadata": {}
        }
      ]
    },
    {
      "cell_type": "code",
      "source": [
        "model.save(\"Mobilenet_fine_last.keras\")\n",
        "from google.colab import files\n",
        "files.download(\"Mobilenet_fine_last.keras\")"
      ],
      "metadata": {
        "colab": {
          "base_uri": "https://localhost:8080/",
          "height": 17
        },
        "id": "XhpY3FV3B160",
        "outputId": "1dfdf125-a148-41d9-8880-3e6e9eba6c9e"
      },
      "execution_count": null,
      "outputs": [
        {
          "output_type": "display_data",
          "data": {
            "text/plain": [
              "<IPython.core.display.Javascript object>"
            ],
            "application/javascript": [
              "\n",
              "    async function download(id, filename, size) {\n",
              "      if (!google.colab.kernel.accessAllowed) {\n",
              "        return;\n",
              "      }\n",
              "      const div = document.createElement('div');\n",
              "      const label = document.createElement('label');\n",
              "      label.textContent = `Downloading \"${filename}\": `;\n",
              "      div.appendChild(label);\n",
              "      const progress = document.createElement('progress');\n",
              "      progress.max = size;\n",
              "      div.appendChild(progress);\n",
              "      document.body.appendChild(div);\n",
              "\n",
              "      const buffers = [];\n",
              "      let downloaded = 0;\n",
              "\n",
              "      const channel = await google.colab.kernel.comms.open(id);\n",
              "      // Send a message to notify the kernel that we're ready.\n",
              "      channel.send({})\n",
              "\n",
              "      for await (const message of channel.messages) {\n",
              "        // Send a message to notify the kernel that we're ready.\n",
              "        channel.send({})\n",
              "        if (message.buffers) {\n",
              "          for (const buffer of message.buffers) {\n",
              "            buffers.push(buffer);\n",
              "            downloaded += buffer.byteLength;\n",
              "            progress.value = downloaded;\n",
              "          }\n",
              "        }\n",
              "      }\n",
              "      const blob = new Blob(buffers, {type: 'application/binary'});\n",
              "      const a = document.createElement('a');\n",
              "      a.href = window.URL.createObjectURL(blob);\n",
              "      a.download = filename;\n",
              "      div.appendChild(a);\n",
              "      a.click();\n",
              "      div.remove();\n",
              "    }\n",
              "  "
            ]
          },
          "metadata": {}
        },
        {
          "output_type": "display_data",
          "data": {
            "text/plain": [
              "<IPython.core.display.Javascript object>"
            ],
            "application/javascript": [
              "download(\"download_bb838808-5b0c-413e-b291-0f83cb7d7abd\", \"Mobilenet_fine_last.keras\", 55991712)"
            ]
          },
          "metadata": {}
        }
      ]
    },
    {
      "cell_type": "code",
      "source": [
        "from sklearn.metrics import classification_report, accuracy_score\n",
        "import pandas as pd\n",
        "\n",
        "# Tahmin değerlerini elde etme\n",
        "y_pred = np.argmax(model.predict(Xtest_resized), axis=1)\n",
        "\n",
        "# Her bir sınıf ve genel performans için metrikleri içeren raporu oluşturma\n",
        "report = classification_report(Ytest, y_pred, output_dict=True)\n",
        "\n",
        "# Genel accuracy değerini ekleme\n",
        "overall_accuracy = accuracy_score(Ytest, y_pred)\n",
        "report['accuracy'] = {'precision': None, 'recall': None, 'f1-score': None, 'support': None, 'accuracy': overall_accuracy}\n",
        "\n",
        "# DataFrame oluşturma\n",
        "metrics_df = pd.DataFrame(report).transpose()\n",
        "\n",
        "# Sonuçları gösterme\n",
        "print(metrics_df)\n"
      ],
      "metadata": {
        "colab": {
          "base_uri": "https://localhost:8080/"
        },
        "id": "MOI0Zn47DKdX",
        "outputId": "28151923-6dbf-4a93-cbe5-4650277392d8"
      },
      "execution_count": null,
      "outputs": [
        {
          "output_type": "stream",
          "name": "stdout",
          "text": [
            "\u001b[1m63/63\u001b[0m \u001b[32m━━━━━━━━━━━━━━━━━━━━\u001b[0m\u001b[37m\u001b[0m \u001b[1m0s\u001b[0m 6ms/step\n",
            "              precision    recall  f1-score  support  accuracy\n",
            "0              0.880074  0.753555  0.811915    633.0       NaN\n",
            "1              0.745520  0.886364  0.809864    704.0       NaN\n",
            "2              0.837283  0.785185  0.810398    675.0       NaN\n",
            "accuracy            NaN       NaN       NaN      NaN  0.810636\n",
            "macro avg      0.820959  0.808368  0.810725   2012.0       NaN\n",
            "weighted avg   0.818637  0.810636  0.810688   2012.0       NaN\n"
          ]
        }
      ]
    },
    {
      "cell_type": "code",
      "source": [
        "from sklearn.metrics import classification_report, accuracy_score\n",
        "\n",
        "# Model ile test verilerini tahmin etme\n",
        "y_pred = np.argmax(model.predict(Xtest_resized), axis=1)\n",
        "\n",
        "# Accuracy hesaplama\n",
        "accuracy = accuracy_score(Ytest, y_pred)\n",
        "print(f\"Accuracy: {accuracy:.2f}\")\n",
        "\n",
        "# Classification report ile recall, precision, F1-score gibi metrikleri hesaplama\n",
        "report = classification_report(Ytest, y_pred, target_names=class_names)\n",
        "print(report)\n"
      ],
      "metadata": {
        "colab": {
          "base_uri": "https://localhost:8080/"
        },
        "id": "ARu_wDkcERud",
        "outputId": "2fcbef51-e65d-4129-df88-85ee8773c0e2"
      },
      "execution_count": null,
      "outputs": [
        {
          "output_type": "stream",
          "name": "stdout",
          "text": [
            "\u001b[1m63/63\u001b[0m \u001b[32m━━━━━━━━━━━━━━━━━━━━\u001b[0m\u001b[37m\u001b[0m \u001b[1m0s\u001b[0m 6ms/step\n",
            "Accuracy: 0.81\n",
            "              precision    recall  f1-score   support\n",
            "\n",
            "          nv       0.88      0.75      0.81       633\n",
            "         mel       0.75      0.89      0.81       704\n",
            "         bkl       0.84      0.79      0.81       675\n",
            "\n",
            "    accuracy                           0.81      2012\n",
            "   macro avg       0.82      0.81      0.81      2012\n",
            "weighted avg       0.82      0.81      0.81      2012\n",
            "\n"
          ]
        }
      ]
    },
    {
      "cell_type": "markdown",
      "source": [
        "Precision(Doğruluk): Bir sınıfa ait olarak tahmin edilen örneklerin gerçekten o sınıfa ait olmasıdır.\n",
        "- Modelin \"mel\" olarak tahmin ettiği örneklerin ne kadarı gerçekten \"mel\" olduğunu ölçer.\n",
        "- mele mel de demiş nv de demiş kaçı mel\n",
        "\n",
        "Recall(Duyarlılık): Bir sınıfa ait olan tüm örneklerin ne kadarının doğru tahmin edildiğini gösterir.\n",
        "- Modelin gerçekte \"mel\" sınıfına ait olan örneklerin ne kadarının model tarafından doğru bir şekilde \"mel\" olarak tanımlandığını ölçer.\n",
        "mel olan resimlerin hepsine mel demişmi\n",
        "\n",
        "F1-Score: Keskinlik ve duyarlılığın harmonik ortalamasıdır.\n",
        "\n",
        "support: her sınıfın gerçek örnek sayısını gösterir.\n",
        "\n",
        "macro avg: tüm sınıflar için hesaplanan metriklerin ortalamasıdır.\n",
        "\n",
        "weighted avg: her sınıfın örnek sayısına göre ortalamasıdır."
      ],
      "metadata": {
        "id": "CC98QUphnpxz"
      }
    },
    {
      "cell_type": "code",
      "source": [
        "from sklearn.metrics import precision_score, recall_score, f1_score, accuracy_score\n",
        "import pandas as pd\n",
        "\n",
        "# Tahmin değerlerini elde etme\n",
        "y_pred = np.argmax(model.predict(Xtest_resized), axis=1)\n",
        "\n",
        "# Genel metrikleri hesaplama\n",
        "precision = precision_score(Ytest, y_pred, average='weighted')\n",
        "recall = recall_score(Ytest, y_pred, average='weighted')\n",
        "f1 = f1_score(Ytest, y_pred, average='weighted')\n",
        "accuracy = accuracy_score(Ytest, y_pred)\n",
        "\n",
        "# Metrikleri DataFrame olarak düzenleme\n",
        "metrics_df = pd.DataFrame({\n",
        "    'Precision': [precision],\n",
        "    'Recall': [recall],\n",
        "    'F1-Score': [f1],\n",
        "    'Accuracy': [accuracy]\n",
        "})\n",
        "\n",
        "# Sonuçları gösterme\n",
        "print(metrics_df)\n"
      ],
      "metadata": {
        "colab": {
          "base_uri": "https://localhost:8080/"
        },
        "id": "Mh49YxY_EWEl",
        "outputId": "289fc169-6a1d-41e4-a1ae-59052d7dbe98"
      },
      "execution_count": null,
      "outputs": [
        {
          "output_type": "stream",
          "name": "stdout",
          "text": [
            "\u001b[1m63/63\u001b[0m \u001b[32m━━━━━━━━━━━━━━━━━━━━\u001b[0m\u001b[37m\u001b[0m \u001b[1m0s\u001b[0m 6ms/step\n",
            "   Precision    Recall  F1-Score  Accuracy\n",
            "0   0.818637  0.810636  0.810688  0.810636\n"
          ]
        }
      ]
    },
    {
      "cell_type": "code",
      "source": [
        "import matplotlib.pyplot as plt\n",
        "\n",
        "# Eğitim ve doğrulama kayıplarını çizdirme\n",
        "plt.plot(history.history['loss'], label='Training Loss')\n",
        "plt.plot(history.history['val_loss'], label='Validation Loss')\n",
        "\n",
        "# Grafiği etiketlendirme\n",
        "plt.xlabel('Epoch')\n",
        "plt.ylabel('Loss')\n",
        "plt.title('Model Loss Over Epochs')\n",
        "plt.legend()\n",
        "\n",
        "# Grafiği gösterme\n",
        "plt.show()\n"
      ],
      "metadata": {
        "colab": {
          "base_uri": "https://localhost:8080/",
          "height": 472
        },
        "id": "LpnfKAFQEYaA",
        "outputId": "87092911-1699-4aa0-efed-6bb9da026d49"
      },
      "execution_count": null,
      "outputs": [
        {
          "output_type": "display_data",
          "data": {
            "text/plain": [
              "<Figure size 640x480 with 1 Axes>"
            ],
            "image/png": "[encoded data removed]"
          },
          "metadata": {}
        }
      ]
    },
    {
      "cell_type": "code",
      "source": [
        "import matplotlib.pyplot as plt\n",
        "\n",
        "# Eğitim ve doğrulama doğruluğunu çizdirme\n",
        "plt.plot(history.history['accuracy'], label='Training Accuracy')\n",
        "plt.plot(history.history['val_accuracy'], label='Validation Accuracy')\n",
        "\n",
        "# Grafiği etiketlendirme\n",
        "plt.xlabel('Epoch')\n",
        "plt.ylabel('Accuracy')\n",
        "plt.title('Model Accuracy Over Epochs')\n",
        "plt.legend()\n",
        "\n",
        "# Grafiği gösterme\n",
        "plt.show()\n"
      ],
      "metadata": {
        "colab": {
          "base_uri": "https://localhost:8080/",
          "height": 472
        },
        "id": "ThzyxpXvEbGR",
        "outputId": "64ba72d4-baf8-401f-d944-3de8a6bf1265"
      },
      "execution_count": null,
      "outputs": [
        {
          "output_type": "display_data",
          "data": {
            "text/plain": [
              "<Figure size 640x480 with 1 Axes>"
            ],
            "image/png": "[encoded data removed]"
          },
          "metadata": {}
        }
      ]
    },
    {
      "cell_type": "code",
      "source": [],
      "metadata": {
        "id": "0a1cSfJsEdpC"
      },
      "execution_count": null,
      "outputs": []
    }
  ]
}